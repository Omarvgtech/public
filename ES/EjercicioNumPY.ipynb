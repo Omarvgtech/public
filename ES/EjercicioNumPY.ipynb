{
 "cells": [
  {
   "cell_type": "code",
   "execution_count": 1,
   "id": "41531eaf-ba1f-4174-9704-534a0a0b3d14",
   "metadata": {},
   "outputs": [],
   "source": [
    "import pandas as pd\n",
    "import numpy as np"
   ]
  },
  {
   "cell_type": "code",
   "execution_count": 2,
   "id": "43840a6b-9ace-42d2-9d11-03a2ac85937e",
   "metadata": {},
   "outputs": [],
   "source": [
    "grades=pd.read_csv('C:/ejercicios/grades.csv')"
   ]
  },
  {
   "cell_type": "code",
   "execution_count": 3,
   "id": "7bd49146-2842-4a10-9e14-8778a685dadd",
   "metadata": {},
   "outputs": [
    {
     "data": {
      "text/html": [
       "<div>\n",
       "<style scoped>\n",
       "    .dataframe tbody tr th:only-of-type {\n",
       "        vertical-align: middle;\n",
       "    }\n",
       "\n",
       "    .dataframe tbody tr th {\n",
       "        vertical-align: top;\n",
       "    }\n",
       "\n",
       "    .dataframe thead th {\n",
       "        text-align: right;\n",
       "    }\n",
       "</style>\n",
       "<table border=\"1\" class=\"dataframe\">\n",
       "  <thead>\n",
       "    <tr style=\"text-align: right;\">\n",
       "      <th></th>\n",
       "      <th>exam</th>\n",
       "      <th>student_id</th>\n",
       "      <th>grade</th>\n",
       "    </tr>\n",
       "  </thead>\n",
       "  <tbody>\n",
       "    <tr>\n",
       "      <th>0</th>\n",
       "      <td>1</td>\n",
       "      <td>1</td>\n",
       "      <td>86.0</td>\n",
       "    </tr>\n",
       "    <tr>\n",
       "      <th>1</th>\n",
       "      <td>1</td>\n",
       "      <td>2</td>\n",
       "      <td>65.0</td>\n",
       "    </tr>\n",
       "    <tr>\n",
       "      <th>2</th>\n",
       "      <td>1</td>\n",
       "      <td>3</td>\n",
       "      <td>70.0</td>\n",
       "    </tr>\n",
       "    <tr>\n",
       "      <th>3</th>\n",
       "      <td>1</td>\n",
       "      <td>4</td>\n",
       "      <td>98.0</td>\n",
       "    </tr>\n",
       "    <tr>\n",
       "      <th>4</th>\n",
       "      <td>1</td>\n",
       "      <td>5</td>\n",
       "      <td>89.0</td>\n",
       "    </tr>\n",
       "    <tr>\n",
       "      <th>5</th>\n",
       "      <td>1</td>\n",
       "      <td>6</td>\n",
       "      <td>NaN</td>\n",
       "    </tr>\n",
       "    <tr>\n",
       "      <th>6</th>\n",
       "      <td>1</td>\n",
       "      <td>7</td>\n",
       "      <td>75.0</td>\n",
       "    </tr>\n",
       "    <tr>\n",
       "      <th>7</th>\n",
       "      <td>1</td>\n",
       "      <td>8</td>\n",
       "      <td>56.0</td>\n",
       "    </tr>\n",
       "    <tr>\n",
       "      <th>8</th>\n",
       "      <td>1</td>\n",
       "      <td>9</td>\n",
       "      <td>90.0</td>\n",
       "    </tr>\n",
       "    <tr>\n",
       "      <th>9</th>\n",
       "      <td>1</td>\n",
       "      <td>10</td>\n",
       "      <td>81.0</td>\n",
       "    </tr>\n",
       "    <tr>\n",
       "      <th>10</th>\n",
       "      <td>2</td>\n",
       "      <td>1</td>\n",
       "      <td>79.0</td>\n",
       "    </tr>\n",
       "    <tr>\n",
       "      <th>11</th>\n",
       "      <td>2</td>\n",
       "      <td>2</td>\n",
       "      <td>60.0</td>\n",
       "    </tr>\n",
       "    <tr>\n",
       "      <th>12</th>\n",
       "      <td>2</td>\n",
       "      <td>3</td>\n",
       "      <td>78.0</td>\n",
       "    </tr>\n",
       "    <tr>\n",
       "      <th>13</th>\n",
       "      <td>2</td>\n",
       "      <td>4</td>\n",
       "      <td>75.0</td>\n",
       "    </tr>\n",
       "    <tr>\n",
       "      <th>14</th>\n",
       "      <td>2</td>\n",
       "      <td>5</td>\n",
       "      <td>NaN</td>\n",
       "    </tr>\n",
       "    <tr>\n",
       "      <th>15</th>\n",
       "      <td>2</td>\n",
       "      <td>6</td>\n",
       "      <td>80.0</td>\n",
       "    </tr>\n",
       "    <tr>\n",
       "      <th>16</th>\n",
       "      <td>2</td>\n",
       "      <td>7</td>\n",
       "      <td>87.0</td>\n",
       "    </tr>\n",
       "    <tr>\n",
       "      <th>17</th>\n",
       "      <td>2</td>\n",
       "      <td>8</td>\n",
       "      <td>82.0</td>\n",
       "    </tr>\n",
       "    <tr>\n",
       "      <th>18</th>\n",
       "      <td>2</td>\n",
       "      <td>9</td>\n",
       "      <td>95.0</td>\n",
       "    </tr>\n",
       "    <tr>\n",
       "      <th>19</th>\n",
       "      <td>2</td>\n",
       "      <td>10</td>\n",
       "      <td>96.0</td>\n",
       "    </tr>\n",
       "    <tr>\n",
       "      <th>20</th>\n",
       "      <td>3</td>\n",
       "      <td>1</td>\n",
       "      <td>78.0</td>\n",
       "    </tr>\n",
       "    <tr>\n",
       "      <th>21</th>\n",
       "      <td>3</td>\n",
       "      <td>2</td>\n",
       "      <td>80.0</td>\n",
       "    </tr>\n",
       "    <tr>\n",
       "      <th>22</th>\n",
       "      <td>3</td>\n",
       "      <td>3</td>\n",
       "      <td>87.0</td>\n",
       "    </tr>\n",
       "    <tr>\n",
       "      <th>23</th>\n",
       "      <td>3</td>\n",
       "      <td>4</td>\n",
       "      <td>NaN</td>\n",
       "    </tr>\n",
       "    <tr>\n",
       "      <th>24</th>\n",
       "      <td>3</td>\n",
       "      <td>5</td>\n",
       "      <td>89.0</td>\n",
       "    </tr>\n",
       "    <tr>\n",
       "      <th>25</th>\n",
       "      <td>3</td>\n",
       "      <td>6</td>\n",
       "      <td>90.0</td>\n",
       "    </tr>\n",
       "    <tr>\n",
       "      <th>26</th>\n",
       "      <td>3</td>\n",
       "      <td>7</td>\n",
       "      <td>100.0</td>\n",
       "    </tr>\n",
       "    <tr>\n",
       "      <th>27</th>\n",
       "      <td>3</td>\n",
       "      <td>8</td>\n",
       "      <td>72.0</td>\n",
       "    </tr>\n",
       "    <tr>\n",
       "      <th>28</th>\n",
       "      <td>3</td>\n",
       "      <td>9</td>\n",
       "      <td>73.0</td>\n",
       "    </tr>\n",
       "    <tr>\n",
       "      <th>29</th>\n",
       "      <td>3</td>\n",
       "      <td>10</td>\n",
       "      <td>75.0</td>\n",
       "    </tr>\n",
       "    <tr>\n",
       "      <th>30</th>\n",
       "      <td>4</td>\n",
       "      <td>1</td>\n",
       "      <td>NaN</td>\n",
       "    </tr>\n",
       "    <tr>\n",
       "      <th>31</th>\n",
       "      <td>4</td>\n",
       "      <td>2</td>\n",
       "      <td>80.0</td>\n",
       "    </tr>\n",
       "    <tr>\n",
       "      <th>32</th>\n",
       "      <td>4</td>\n",
       "      <td>3</td>\n",
       "      <td>81.0</td>\n",
       "    </tr>\n",
       "    <tr>\n",
       "      <th>33</th>\n",
       "      <td>4</td>\n",
       "      <td>4</td>\n",
       "      <td>82.0</td>\n",
       "    </tr>\n",
       "    <tr>\n",
       "      <th>34</th>\n",
       "      <td>4</td>\n",
       "      <td>5</td>\n",
       "      <td>83.0</td>\n",
       "    </tr>\n",
       "    <tr>\n",
       "      <th>35</th>\n",
       "      <td>4</td>\n",
       "      <td>6</td>\n",
       "      <td>84.0</td>\n",
       "    </tr>\n",
       "    <tr>\n",
       "      <th>36</th>\n",
       "      <td>4</td>\n",
       "      <td>7</td>\n",
       "      <td>85.0</td>\n",
       "    </tr>\n",
       "    <tr>\n",
       "      <th>37</th>\n",
       "      <td>4</td>\n",
       "      <td>8</td>\n",
       "      <td>86.0</td>\n",
       "    </tr>\n",
       "    <tr>\n",
       "      <th>38</th>\n",
       "      <td>4</td>\n",
       "      <td>9</td>\n",
       "      <td>87.0</td>\n",
       "    </tr>\n",
       "    <tr>\n",
       "      <th>39</th>\n",
       "      <td>4</td>\n",
       "      <td>10</td>\n",
       "      <td>88.0</td>\n",
       "    </tr>\n",
       "    <tr>\n",
       "      <th>40</th>\n",
       "      <td>5</td>\n",
       "      <td>1</td>\n",
       "      <td>90.0</td>\n",
       "    </tr>\n",
       "    <tr>\n",
       "      <th>41</th>\n",
       "      <td>5</td>\n",
       "      <td>2</td>\n",
       "      <td>NaN</td>\n",
       "    </tr>\n",
       "    <tr>\n",
       "      <th>42</th>\n",
       "      <td>5</td>\n",
       "      <td>3</td>\n",
       "      <td>91.0</td>\n",
       "    </tr>\n",
       "    <tr>\n",
       "      <th>43</th>\n",
       "      <td>5</td>\n",
       "      <td>4</td>\n",
       "      <td>92.0</td>\n",
       "    </tr>\n",
       "    <tr>\n",
       "      <th>44</th>\n",
       "      <td>5</td>\n",
       "      <td>5</td>\n",
       "      <td>93.0</td>\n",
       "    </tr>\n",
       "    <tr>\n",
       "      <th>45</th>\n",
       "      <td>5</td>\n",
       "      <td>6</td>\n",
       "      <td>94.0</td>\n",
       "    </tr>\n",
       "    <tr>\n",
       "      <th>46</th>\n",
       "      <td>5</td>\n",
       "      <td>7</td>\n",
       "      <td>95.0</td>\n",
       "    </tr>\n",
       "    <tr>\n",
       "      <th>47</th>\n",
       "      <td>5</td>\n",
       "      <td>8</td>\n",
       "      <td>96.0</td>\n",
       "    </tr>\n",
       "    <tr>\n",
       "      <th>48</th>\n",
       "      <td>5</td>\n",
       "      <td>9</td>\n",
       "      <td>97.0</td>\n",
       "    </tr>\n",
       "    <tr>\n",
       "      <th>49</th>\n",
       "      <td>5</td>\n",
       "      <td>10</td>\n",
       "      <td>98.0</td>\n",
       "    </tr>\n",
       "  </tbody>\n",
       "</table>\n",
       "</div>"
      ],
      "text/plain": [
       "    exam  student_id  grade\n",
       "0      1           1   86.0\n",
       "1      1           2   65.0\n",
       "2      1           3   70.0\n",
       "3      1           4   98.0\n",
       "4      1           5   89.0\n",
       "5      1           6    NaN\n",
       "6      1           7   75.0\n",
       "7      1           8   56.0\n",
       "8      1           9   90.0\n",
       "9      1          10   81.0\n",
       "10     2           1   79.0\n",
       "11     2           2   60.0\n",
       "12     2           3   78.0\n",
       "13     2           4   75.0\n",
       "14     2           5    NaN\n",
       "15     2           6   80.0\n",
       "16     2           7   87.0\n",
       "17     2           8   82.0\n",
       "18     2           9   95.0\n",
       "19     2          10   96.0\n",
       "20     3           1   78.0\n",
       "21     3           2   80.0\n",
       "22     3           3   87.0\n",
       "23     3           4    NaN\n",
       "24     3           5   89.0\n",
       "25     3           6   90.0\n",
       "26     3           7  100.0\n",
       "27     3           8   72.0\n",
       "28     3           9   73.0\n",
       "29     3          10   75.0\n",
       "30     4           1    NaN\n",
       "31     4           2   80.0\n",
       "32     4           3   81.0\n",
       "33     4           4   82.0\n",
       "34     4           5   83.0\n",
       "35     4           6   84.0\n",
       "36     4           7   85.0\n",
       "37     4           8   86.0\n",
       "38     4           9   87.0\n",
       "39     4          10   88.0\n",
       "40     5           1   90.0\n",
       "41     5           2    NaN\n",
       "42     5           3   91.0\n",
       "43     5           4   92.0\n",
       "44     5           5   93.0\n",
       "45     5           6   94.0\n",
       "46     5           7   95.0\n",
       "47     5           8   96.0\n",
       "48     5           9   97.0\n",
       "49     5          10   98.0"
      ]
     },
     "execution_count": 3,
     "metadata": {},
     "output_type": "execute_result"
    }
   ],
   "source": [
    "grades\n"
   ]
  },
  {
   "cell_type": "code",
   "execution_count": 4,
   "id": "c31c40be-5ec5-4a33-b9da-806f90ad3fef",
   "metadata": {},
   "outputs": [
    {
     "data": {
      "text/html": [
       "<div>\n",
       "<style scoped>\n",
       "    .dataframe tbody tr th:only-of-type {\n",
       "        vertical-align: middle;\n",
       "    }\n",
       "\n",
       "    .dataframe tbody tr th {\n",
       "        vertical-align: top;\n",
       "    }\n",
       "\n",
       "    .dataframe thead th {\n",
       "        text-align: right;\n",
       "    }\n",
       "</style>\n",
       "<table border=\"1\" class=\"dataframe\">\n",
       "  <thead>\n",
       "    <tr style=\"text-align: right;\">\n",
       "      <th></th>\n",
       "      <th>exam</th>\n",
       "      <th>student_id</th>\n",
       "      <th>grade</th>\n",
       "    </tr>\n",
       "  </thead>\n",
       "  <tbody>\n",
       "    <tr>\n",
       "      <th>0</th>\n",
       "      <td>1</td>\n",
       "      <td>1</td>\n",
       "      <td>86.0</td>\n",
       "    </tr>\n",
       "    <tr>\n",
       "      <th>1</th>\n",
       "      <td>1</td>\n",
       "      <td>2</td>\n",
       "      <td>65.0</td>\n",
       "    </tr>\n",
       "    <tr>\n",
       "      <th>2</th>\n",
       "      <td>1</td>\n",
       "      <td>3</td>\n",
       "      <td>70.0</td>\n",
       "    </tr>\n",
       "    <tr>\n",
       "      <th>3</th>\n",
       "      <td>1</td>\n",
       "      <td>4</td>\n",
       "      <td>98.0</td>\n",
       "    </tr>\n",
       "    <tr>\n",
       "      <th>4</th>\n",
       "      <td>1</td>\n",
       "      <td>5</td>\n",
       "      <td>89.0</td>\n",
       "    </tr>\n",
       "    <tr>\n",
       "      <th>5</th>\n",
       "      <td>1</td>\n",
       "      <td>6</td>\n",
       "      <td>NaN</td>\n",
       "    </tr>\n",
       "    <tr>\n",
       "      <th>6</th>\n",
       "      <td>1</td>\n",
       "      <td>7</td>\n",
       "      <td>75.0</td>\n",
       "    </tr>\n",
       "    <tr>\n",
       "      <th>7</th>\n",
       "      <td>1</td>\n",
       "      <td>8</td>\n",
       "      <td>56.0</td>\n",
       "    </tr>\n",
       "    <tr>\n",
       "      <th>8</th>\n",
       "      <td>1</td>\n",
       "      <td>9</td>\n",
       "      <td>90.0</td>\n",
       "    </tr>\n",
       "    <tr>\n",
       "      <th>9</th>\n",
       "      <td>1</td>\n",
       "      <td>10</td>\n",
       "      <td>81.0</td>\n",
       "    </tr>\n",
       "  </tbody>\n",
       "</table>\n",
       "</div>"
      ],
      "text/plain": [
       "   exam  student_id  grade\n",
       "0     1           1   86.0\n",
       "1     1           2   65.0\n",
       "2     1           3   70.0\n",
       "3     1           4   98.0\n",
       "4     1           5   89.0\n",
       "5     1           6    NaN\n",
       "6     1           7   75.0\n",
       "7     1           8   56.0\n",
       "8     1           9   90.0\n",
       "9     1          10   81.0"
      ]
     },
     "execution_count": 4,
     "metadata": {},
     "output_type": "execute_result"
    }
   ],
   "source": [
    "grades.head(10)"
   ]
  },
  {
   "cell_type": "code",
   "execution_count": 5,
   "id": "1479eb84-487e-4959-98db-013c73d1187e",
   "metadata": {},
   "outputs": [
    {
     "data": {
      "text/html": [
       "<div>\n",
       "<style scoped>\n",
       "    .dataframe tbody tr th:only-of-type {\n",
       "        vertical-align: middle;\n",
       "    }\n",
       "\n",
       "    .dataframe tbody tr th {\n",
       "        vertical-align: top;\n",
       "    }\n",
       "\n",
       "    .dataframe thead th {\n",
       "        text-align: right;\n",
       "    }\n",
       "</style>\n",
       "<table border=\"1\" class=\"dataframe\">\n",
       "  <thead>\n",
       "    <tr style=\"text-align: right;\">\n",
       "      <th></th>\n",
       "      <th>exam</th>\n",
       "      <th>student_id</th>\n",
       "      <th>grade</th>\n",
       "    </tr>\n",
       "  </thead>\n",
       "  <tbody>\n",
       "    <tr>\n",
       "      <th>0</th>\n",
       "      <td>1</td>\n",
       "      <td>1</td>\n",
       "      <td>86.0</td>\n",
       "    </tr>\n",
       "    <tr>\n",
       "      <th>1</th>\n",
       "      <td>1</td>\n",
       "      <td>2</td>\n",
       "      <td>65.0</td>\n",
       "    </tr>\n",
       "    <tr>\n",
       "      <th>2</th>\n",
       "      <td>1</td>\n",
       "      <td>3</td>\n",
       "      <td>70.0</td>\n",
       "    </tr>\n",
       "    <tr>\n",
       "      <th>3</th>\n",
       "      <td>1</td>\n",
       "      <td>4</td>\n",
       "      <td>98.0</td>\n",
       "    </tr>\n",
       "    <tr>\n",
       "      <th>4</th>\n",
       "      <td>1</td>\n",
       "      <td>5</td>\n",
       "      <td>89.0</td>\n",
       "    </tr>\n",
       "    <tr>\n",
       "      <th>5</th>\n",
       "      <td>1</td>\n",
       "      <td>6</td>\n",
       "      <td>NaN</td>\n",
       "    </tr>\n",
       "    <tr>\n",
       "      <th>6</th>\n",
       "      <td>1</td>\n",
       "      <td>7</td>\n",
       "      <td>75.0</td>\n",
       "    </tr>\n",
       "    <tr>\n",
       "      <th>7</th>\n",
       "      <td>1</td>\n",
       "      <td>8</td>\n",
       "      <td>56.0</td>\n",
       "    </tr>\n",
       "    <tr>\n",
       "      <th>8</th>\n",
       "      <td>1</td>\n",
       "      <td>9</td>\n",
       "      <td>90.0</td>\n",
       "    </tr>\n",
       "    <tr>\n",
       "      <th>9</th>\n",
       "      <td>1</td>\n",
       "      <td>10</td>\n",
       "      <td>81.0</td>\n",
       "    </tr>\n",
       "  </tbody>\n",
       "</table>\n",
       "</div>"
      ],
      "text/plain": [
       "   exam  student_id  grade\n",
       "0     1           1   86.0\n",
       "1     1           2   65.0\n",
       "2     1           3   70.0\n",
       "3     1           4   98.0\n",
       "4     1           5   89.0\n",
       "5     1           6    NaN\n",
       "6     1           7   75.0\n",
       "7     1           8   56.0\n",
       "8     1           9   90.0\n",
       "9     1          10   81.0"
      ]
     },
     "execution_count": 5,
     "metadata": {},
     "output_type": "execute_result"
    }
   ],
   "source": [
    "grades.iloc[:10]"
   ]
  },
  {
   "cell_type": "code",
   "execution_count": 6,
   "id": "77748e49-275d-40da-a0b2-c9cb08b78a9c",
   "metadata": {},
   "outputs": [
    {
     "data": {
      "text/html": [
       "<div>\n",
       "<style scoped>\n",
       "    .dataframe tbody tr th:only-of-type {\n",
       "        vertical-align: middle;\n",
       "    }\n",
       "\n",
       "    .dataframe tbody tr th {\n",
       "        vertical-align: top;\n",
       "    }\n",
       "\n",
       "    .dataframe thead th {\n",
       "        text-align: right;\n",
       "    }\n",
       "</style>\n",
       "<table border=\"1\" class=\"dataframe\">\n",
       "  <thead>\n",
       "    <tr style=\"text-align: right;\">\n",
       "      <th></th>\n",
       "      <th>exam</th>\n",
       "      <th>student_id</th>\n",
       "      <th>grade</th>\n",
       "    </tr>\n",
       "  </thead>\n",
       "  <tbody>\n",
       "    <tr>\n",
       "      <th>2</th>\n",
       "      <td>1</td>\n",
       "      <td>3</td>\n",
       "      <td>70.0</td>\n",
       "    </tr>\n",
       "    <tr>\n",
       "      <th>3</th>\n",
       "      <td>1</td>\n",
       "      <td>4</td>\n",
       "      <td>98.0</td>\n",
       "    </tr>\n",
       "    <tr>\n",
       "      <th>4</th>\n",
       "      <td>1</td>\n",
       "      <td>5</td>\n",
       "      <td>89.0</td>\n",
       "    </tr>\n",
       "    <tr>\n",
       "      <th>5</th>\n",
       "      <td>1</td>\n",
       "      <td>6</td>\n",
       "      <td>NaN</td>\n",
       "    </tr>\n",
       "    <tr>\n",
       "      <th>6</th>\n",
       "      <td>1</td>\n",
       "      <td>7</td>\n",
       "      <td>75.0</td>\n",
       "    </tr>\n",
       "    <tr>\n",
       "      <th>7</th>\n",
       "      <td>1</td>\n",
       "      <td>8</td>\n",
       "      <td>56.0</td>\n",
       "    </tr>\n",
       "    <tr>\n",
       "      <th>8</th>\n",
       "      <td>1</td>\n",
       "      <td>9</td>\n",
       "      <td>90.0</td>\n",
       "    </tr>\n",
       "    <tr>\n",
       "      <th>9</th>\n",
       "      <td>1</td>\n",
       "      <td>10</td>\n",
       "      <td>81.0</td>\n",
       "    </tr>\n",
       "  </tbody>\n",
       "</table>\n",
       "</div>"
      ],
      "text/plain": [
       "   exam  student_id  grade\n",
       "2     1           3   70.0\n",
       "3     1           4   98.0\n",
       "4     1           5   89.0\n",
       "5     1           6    NaN\n",
       "6     1           7   75.0\n",
       "7     1           8   56.0\n",
       "8     1           9   90.0\n",
       "9     1          10   81.0"
      ]
     },
     "execution_count": 6,
     "metadata": {},
     "output_type": "execute_result"
    }
   ],
   "source": [
    "grades.iloc[2:10]"
   ]
  },
  {
   "cell_type": "code",
   "execution_count": 7,
   "id": "afd18a24-8a47-4690-b67d-08dfc8672eb5",
   "metadata": {},
   "outputs": [
    {
     "data": {
      "text/html": [
       "<div>\n",
       "<style scoped>\n",
       "    .dataframe tbody tr th:only-of-type {\n",
       "        vertical-align: middle;\n",
       "    }\n",
       "\n",
       "    .dataframe tbody tr th {\n",
       "        vertical-align: top;\n",
       "    }\n",
       "\n",
       "    .dataframe thead th {\n",
       "        text-align: right;\n",
       "    }\n",
       "</style>\n",
       "<table border=\"1\" class=\"dataframe\">\n",
       "  <thead>\n",
       "    <tr style=\"text-align: right;\">\n",
       "      <th></th>\n",
       "      <th>exam</th>\n",
       "      <th>student_id</th>\n",
       "      <th>grade</th>\n",
       "    </tr>\n",
       "  </thead>\n",
       "  <tbody>\n",
       "    <tr>\n",
       "      <th>20</th>\n",
       "      <td>3</td>\n",
       "      <td>1</td>\n",
       "      <td>78.0</td>\n",
       "    </tr>\n",
       "    <tr>\n",
       "      <th>21</th>\n",
       "      <td>3</td>\n",
       "      <td>2</td>\n",
       "      <td>80.0</td>\n",
       "    </tr>\n",
       "    <tr>\n",
       "      <th>22</th>\n",
       "      <td>3</td>\n",
       "      <td>3</td>\n",
       "      <td>87.0</td>\n",
       "    </tr>\n",
       "    <tr>\n",
       "      <th>23</th>\n",
       "      <td>3</td>\n",
       "      <td>4</td>\n",
       "      <td>NaN</td>\n",
       "    </tr>\n",
       "    <tr>\n",
       "      <th>24</th>\n",
       "      <td>3</td>\n",
       "      <td>5</td>\n",
       "      <td>89.0</td>\n",
       "    </tr>\n",
       "    <tr>\n",
       "      <th>25</th>\n",
       "      <td>3</td>\n",
       "      <td>6</td>\n",
       "      <td>90.0</td>\n",
       "    </tr>\n",
       "    <tr>\n",
       "      <th>26</th>\n",
       "      <td>3</td>\n",
       "      <td>7</td>\n",
       "      <td>100.0</td>\n",
       "    </tr>\n",
       "    <tr>\n",
       "      <th>27</th>\n",
       "      <td>3</td>\n",
       "      <td>8</td>\n",
       "      <td>72.0</td>\n",
       "    </tr>\n",
       "    <tr>\n",
       "      <th>28</th>\n",
       "      <td>3</td>\n",
       "      <td>9</td>\n",
       "      <td>73.0</td>\n",
       "    </tr>\n",
       "    <tr>\n",
       "      <th>29</th>\n",
       "      <td>3</td>\n",
       "      <td>10</td>\n",
       "      <td>75.0</td>\n",
       "    </tr>\n",
       "  </tbody>\n",
       "</table>\n",
       "</div>"
      ],
      "text/plain": [
       "    exam  student_id  grade\n",
       "20     3           1   78.0\n",
       "21     3           2   80.0\n",
       "22     3           3   87.0\n",
       "23     3           4    NaN\n",
       "24     3           5   89.0\n",
       "25     3           6   90.0\n",
       "26     3           7  100.0\n",
       "27     3           8   72.0\n",
       "28     3           9   73.0\n",
       "29     3          10   75.0"
      ]
     },
     "execution_count": 7,
     "metadata": {},
     "output_type": "execute_result"
    }
   ],
   "source": [
    "grades.iloc[20:30]"
   ]
  },
  {
   "cell_type": "raw",
   "id": "aa2369ea-2da2-477d-bfd6-259492293ea2",
   "metadata": {},
   "source": [
    "grades['grade']=grades['grade'].fillna(0)"
   ]
  },
  {
   "cell_type": "code",
   "execution_count": 11,
   "id": "ebdc7759-0ea6-46fd-b660-91cb0652962a",
   "metadata": {},
   "outputs": [
    {
     "data": {
      "text/plain": [
       "0      86.0\n",
       "1      65.0\n",
       "2      70.0\n",
       "3      98.0\n",
       "4      89.0\n",
       "5       0.0\n",
       "6      75.0\n",
       "7      56.0\n",
       "8      90.0\n",
       "9      81.0\n",
       "10     79.0\n",
       "11     60.0\n",
       "12     78.0\n",
       "13     75.0\n",
       "14      0.0\n",
       "15     80.0\n",
       "16     87.0\n",
       "17     82.0\n",
       "18     95.0\n",
       "19     96.0\n",
       "20     78.0\n",
       "21     80.0\n",
       "22     87.0\n",
       "23      0.0\n",
       "24     89.0\n",
       "25     90.0\n",
       "26    100.0\n",
       "27     72.0\n",
       "28     73.0\n",
       "29     75.0\n",
       "30      0.0\n",
       "31     80.0\n",
       "32     81.0\n",
       "33     82.0\n",
       "34     83.0\n",
       "35     84.0\n",
       "36     85.0\n",
       "37     86.0\n",
       "38     87.0\n",
       "39     88.0\n",
       "40     90.0\n",
       "41      0.0\n",
       "42     91.0\n",
       "43     92.0\n",
       "44     93.0\n",
       "45     94.0\n",
       "46     95.0\n",
       "47     96.0\n",
       "48     97.0\n",
       "49     98.0\n",
       "Name: grade, dtype: float64"
      ]
     },
     "execution_count": 11,
     "metadata": {},
     "output_type": "execute_result"
    }
   ],
   "source": [
    "grades['grade'].fillna(0)"
   ]
  },
  {
   "cell_type": "code",
   "execution_count": 12,
   "id": "4b6b4280-b89c-45b7-ae00-b3e1b9d5f89a",
   "metadata": {},
   "outputs": [
    {
     "data": {
      "text/html": [
       "<div>\n",
       "<style scoped>\n",
       "    .dataframe tbody tr th:only-of-type {\n",
       "        vertical-align: middle;\n",
       "    }\n",
       "\n",
       "    .dataframe tbody tr th {\n",
       "        vertical-align: top;\n",
       "    }\n",
       "\n",
       "    .dataframe thead th {\n",
       "        text-align: right;\n",
       "    }\n",
       "</style>\n",
       "<table border=\"1\" class=\"dataframe\">\n",
       "  <thead>\n",
       "    <tr style=\"text-align: right;\">\n",
       "      <th></th>\n",
       "      <th>exam</th>\n",
       "      <th>student_id</th>\n",
       "      <th>grade</th>\n",
       "    </tr>\n",
       "  </thead>\n",
       "  <tbody>\n",
       "    <tr>\n",
       "      <th>0</th>\n",
       "      <td>1</td>\n",
       "      <td>1</td>\n",
       "      <td>86.0</td>\n",
       "    </tr>\n",
       "    <tr>\n",
       "      <th>1</th>\n",
       "      <td>1</td>\n",
       "      <td>2</td>\n",
       "      <td>65.0</td>\n",
       "    </tr>\n",
       "    <tr>\n",
       "      <th>2</th>\n",
       "      <td>1</td>\n",
       "      <td>3</td>\n",
       "      <td>70.0</td>\n",
       "    </tr>\n",
       "    <tr>\n",
       "      <th>3</th>\n",
       "      <td>1</td>\n",
       "      <td>4</td>\n",
       "      <td>98.0</td>\n",
       "    </tr>\n",
       "    <tr>\n",
       "      <th>4</th>\n",
       "      <td>1</td>\n",
       "      <td>5</td>\n",
       "      <td>89.0</td>\n",
       "    </tr>\n",
       "    <tr>\n",
       "      <th>5</th>\n",
       "      <td>1</td>\n",
       "      <td>6</td>\n",
       "      <td>NaN</td>\n",
       "    </tr>\n",
       "    <tr>\n",
       "      <th>6</th>\n",
       "      <td>1</td>\n",
       "      <td>7</td>\n",
       "      <td>75.0</td>\n",
       "    </tr>\n",
       "    <tr>\n",
       "      <th>7</th>\n",
       "      <td>1</td>\n",
       "      <td>8</td>\n",
       "      <td>56.0</td>\n",
       "    </tr>\n",
       "    <tr>\n",
       "      <th>8</th>\n",
       "      <td>1</td>\n",
       "      <td>9</td>\n",
       "      <td>90.0</td>\n",
       "    </tr>\n",
       "    <tr>\n",
       "      <th>9</th>\n",
       "      <td>1</td>\n",
       "      <td>10</td>\n",
       "      <td>81.0</td>\n",
       "    </tr>\n",
       "  </tbody>\n",
       "</table>\n",
       "</div>"
      ],
      "text/plain": [
       "   exam  student_id  grade\n",
       "0     1           1   86.0\n",
       "1     1           2   65.0\n",
       "2     1           3   70.0\n",
       "3     1           4   98.0\n",
       "4     1           5   89.0\n",
       "5     1           6    NaN\n",
       "6     1           7   75.0\n",
       "7     1           8   56.0\n",
       "8     1           9   90.0\n",
       "9     1          10   81.0"
      ]
     },
     "execution_count": 12,
     "metadata": {},
     "output_type": "execute_result"
    }
   ],
   "source": [
    "grades.iloc[:10]"
   ]
  },
  {
   "cell_type": "code",
   "execution_count": 13,
   "id": "9213278f-975a-4289-b830-f4a8cd075d4c",
   "metadata": {},
   "outputs": [
    {
     "data": {
      "text/html": [
       "<div>\n",
       "<style scoped>\n",
       "    .dataframe tbody tr th:only-of-type {\n",
       "        vertical-align: middle;\n",
       "    }\n",
       "\n",
       "    .dataframe tbody tr th {\n",
       "        vertical-align: top;\n",
       "    }\n",
       "\n",
       "    .dataframe thead th {\n",
       "        text-align: right;\n",
       "    }\n",
       "</style>\n",
       "<table border=\"1\" class=\"dataframe\">\n",
       "  <thead>\n",
       "    <tr style=\"text-align: right;\">\n",
       "      <th></th>\n",
       "      <th>exam</th>\n",
       "      <th>student_id</th>\n",
       "      <th>grade</th>\n",
       "    </tr>\n",
       "  </thead>\n",
       "  <tbody>\n",
       "    <tr>\n",
       "      <th>0</th>\n",
       "      <td>1</td>\n",
       "      <td>1</td>\n",
       "      <td>86.0</td>\n",
       "    </tr>\n",
       "    <tr>\n",
       "      <th>1</th>\n",
       "      <td>1</td>\n",
       "      <td>2</td>\n",
       "      <td>65.0</td>\n",
       "    </tr>\n",
       "    <tr>\n",
       "      <th>2</th>\n",
       "      <td>1</td>\n",
       "      <td>3</td>\n",
       "      <td>70.0</td>\n",
       "    </tr>\n",
       "    <tr>\n",
       "      <th>3</th>\n",
       "      <td>1</td>\n",
       "      <td>4</td>\n",
       "      <td>98.0</td>\n",
       "    </tr>\n",
       "    <tr>\n",
       "      <th>4</th>\n",
       "      <td>1</td>\n",
       "      <td>5</td>\n",
       "      <td>89.0</td>\n",
       "    </tr>\n",
       "    <tr>\n",
       "      <th>5</th>\n",
       "      <td>1</td>\n",
       "      <td>6</td>\n",
       "      <td>NaN</td>\n",
       "    </tr>\n",
       "    <tr>\n",
       "      <th>6</th>\n",
       "      <td>1</td>\n",
       "      <td>7</td>\n",
       "      <td>75.0</td>\n",
       "    </tr>\n",
       "    <tr>\n",
       "      <th>7</th>\n",
       "      <td>1</td>\n",
       "      <td>8</td>\n",
       "      <td>56.0</td>\n",
       "    </tr>\n",
       "    <tr>\n",
       "      <th>8</th>\n",
       "      <td>1</td>\n",
       "      <td>9</td>\n",
       "      <td>90.0</td>\n",
       "    </tr>\n",
       "    <tr>\n",
       "      <th>9</th>\n",
       "      <td>1</td>\n",
       "      <td>10</td>\n",
       "      <td>81.0</td>\n",
       "    </tr>\n",
       "  </tbody>\n",
       "</table>\n",
       "</div>"
      ],
      "text/plain": [
       "   exam  student_id  grade\n",
       "0     1           1   86.0\n",
       "1     1           2   65.0\n",
       "2     1           3   70.0\n",
       "3     1           4   98.0\n",
       "4     1           5   89.0\n",
       "5     1           6    NaN\n",
       "6     1           7   75.0\n",
       "7     1           8   56.0\n",
       "8     1           9   90.0\n",
       "9     1          10   81.0"
      ]
     },
     "execution_count": 13,
     "metadata": {},
     "output_type": "execute_result"
    }
   ],
   "source": [
    "grades.loc[grades['exam']==1]"
   ]
  },
  {
   "cell_type": "code",
   "execution_count": 14,
   "id": "ec5ec734-ec85-4715-b297-473d057b6b24",
   "metadata": {},
   "outputs": [
    {
     "data": {
      "text/plain": [
       "78.88888888888889"
      ]
     },
     "execution_count": 14,
     "metadata": {},
     "output_type": "execute_result"
    }
   ],
   "source": [
    "grades.loc[grades['exam']==1]['grade'].mean()"
   ]
  },
  {
   "cell_type": "code",
   "execution_count": 15,
   "id": "22623558-b62c-4060-b7ff-637109bce890",
   "metadata": {},
   "outputs": [
    {
     "data": {
      "text/plain": [
       "\u001b[1;31mType:\u001b[0m        property\n",
       "\u001b[1;31mString form:\u001b[0m <property object at 0x00000197E479FFB0>\n",
       "\u001b[1;31mDocstring:\u001b[0m  \n",
       "Access a group of rows and columns by label(s) or a boolean array.\n",
       "\n",
       "``.loc[]`` is primarily label based, but may also be used with a\n",
       "boolean array.\n",
       "\n",
       "Allowed inputs are:\n",
       "\n",
       "- A single label, e.g. ``5`` or ``'a'``, (note that ``5`` is\n",
       "  interpreted as a *label* of the index, and **never** as an\n",
       "  integer position along the index).\n",
       "- A list or array of labels, e.g. ``['a', 'b', 'c']``.\n",
       "- A slice object with labels, e.g. ``'a':'f'``.\n",
       "\n",
       "  .. warning:: Note that contrary to usual python slices, **both** the\n",
       "      start and the stop are included\n",
       "\n",
       "- A boolean array of the same length as the axis being sliced,\n",
       "  e.g. ``[True, False, True]``.\n",
       "- An alignable boolean Series. The index of the key will be aligned before\n",
       "  masking.\n",
       "- An alignable Index. The Index of the returned selection will be the input.\n",
       "- A ``callable`` function with one argument (the calling Series or\n",
       "  DataFrame) and that returns valid output for indexing (one of the above)\n",
       "\n",
       "See more at :ref:`Selection by Label <indexing.label>`.\n",
       "\n",
       "Raises\n",
       "------\n",
       "KeyError\n",
       "    If any items are not found.\n",
       "IndexingError\n",
       "    If an indexed key is passed and its index is unalignable to the frame index.\n",
       "\n",
       "See Also\n",
       "--------\n",
       "DataFrame.at : Access a single value for a row/column label pair.\n",
       "DataFrame.iloc : Access group of rows and columns by integer position(s).\n",
       "DataFrame.xs : Returns a cross-section (row(s) or column(s)) from the\n",
       "    Series/DataFrame.\n",
       "Series.loc : Access group of values using labels.\n",
       "\n",
       "Examples\n",
       "--------\n",
       "**Getting values**\n",
       "\n",
       ">>> df = pd.DataFrame([[1, 2], [4, 5], [7, 8]],\n",
       "...      index=['cobra', 'viper', 'sidewinder'],\n",
       "...      columns=['max_speed', 'shield'])\n",
       ">>> df\n",
       "            max_speed  shield\n",
       "cobra               1       2\n",
       "viper               4       5\n",
       "sidewinder          7       8\n",
       "\n",
       "Single label. Note this returns the row as a Series.\n",
       "\n",
       ">>> df.loc['viper']\n",
       "max_speed    4\n",
       "shield       5\n",
       "Name: viper, dtype: int64\n",
       "\n",
       "List of labels. Note using ``[[]]`` returns a DataFrame.\n",
       "\n",
       ">>> df.loc[['viper', 'sidewinder']]\n",
       "            max_speed  shield\n",
       "viper               4       5\n",
       "sidewinder          7       8\n",
       "\n",
       "Single label for row and column\n",
       "\n",
       ">>> df.loc['cobra', 'shield']\n",
       "2\n",
       "\n",
       "Slice with labels for row and single label for column. As mentioned\n",
       "above, note that both the start and stop of the slice are included.\n",
       "\n",
       ">>> df.loc['cobra':'viper', 'max_speed']\n",
       "cobra    1\n",
       "viper    4\n",
       "Name: max_speed, dtype: int64\n",
       "\n",
       "Boolean list with the same length as the row axis\n",
       "\n",
       ">>> df.loc[[False, False, True]]\n",
       "            max_speed  shield\n",
       "sidewinder          7       8\n",
       "\n",
       "Alignable boolean Series:\n",
       "\n",
       ">>> df.loc[pd.Series([False, True, False],\n",
       "...        index=['viper', 'sidewinder', 'cobra'])]\n",
       "            max_speed  shield\n",
       "sidewinder          7       8\n",
       "\n",
       "Index (same behavior as ``df.reindex``)\n",
       "\n",
       ">>> df.loc[pd.Index([\"cobra\", \"viper\"], name=\"foo\")]\n",
       "       max_speed  shield\n",
       "foo\n",
       "cobra          1       2\n",
       "viper          4       5\n",
       "\n",
       "Conditional that returns a boolean Series\n",
       "\n",
       ">>> df.loc[df['shield'] > 6]\n",
       "            max_speed  shield\n",
       "sidewinder          7       8\n",
       "\n",
       "Conditional that returns a boolean Series with column labels specified\n",
       "\n",
       ">>> df.loc[df['shield'] > 6, ['max_speed']]\n",
       "            max_speed\n",
       "sidewinder          7\n",
       "\n",
       "Callable that returns a boolean Series\n",
       "\n",
       ">>> df.loc[lambda df: df['shield'] == 8]\n",
       "            max_speed  shield\n",
       "sidewinder          7       8\n",
       "\n",
       "**Setting values**\n",
       "\n",
       "Set value for all items matching the list of labels\n",
       "\n",
       ">>> df.loc[['viper', 'sidewinder'], ['shield']] = 50\n",
       ">>> df\n",
       "            max_speed  shield\n",
       "cobra               1       2\n",
       "viper               4      50\n",
       "sidewinder          7      50\n",
       "\n",
       "Set value for an entire row\n",
       "\n",
       ">>> df.loc['cobra'] = 10\n",
       ">>> df\n",
       "            max_speed  shield\n",
       "cobra              10      10\n",
       "viper               4      50\n",
       "sidewinder          7      50\n",
       "\n",
       "Set value for an entire column\n",
       "\n",
       ">>> df.loc[:, 'max_speed'] = 30\n",
       ">>> df\n",
       "            max_speed  shield\n",
       "cobra              30      10\n",
       "viper              30      50\n",
       "sidewinder         30      50\n",
       "\n",
       "Set value for rows matching callable condition\n",
       "\n",
       ">>> df.loc[df['shield'] > 35] = 0\n",
       ">>> df\n",
       "            max_speed  shield\n",
       "cobra              30      10\n",
       "viper               0       0\n",
       "sidewinder          0       0\n",
       "\n",
       "**Getting values on a DataFrame with an index that has integer labels**\n",
       "\n",
       "Another example using integers for the index\n",
       "\n",
       ">>> df = pd.DataFrame([[1, 2], [4, 5], [7, 8]],\n",
       "...      index=[7, 8, 9], columns=['max_speed', 'shield'])\n",
       ">>> df\n",
       "   max_speed  shield\n",
       "7          1       2\n",
       "8          4       5\n",
       "9          7       8\n",
       "\n",
       "Slice with integer labels for rows. As mentioned above, note that both\n",
       "the start and stop of the slice are included.\n",
       "\n",
       ">>> df.loc[7:9]\n",
       "   max_speed  shield\n",
       "7          1       2\n",
       "8          4       5\n",
       "9          7       8\n",
       "\n",
       "**Getting values with a MultiIndex**\n",
       "\n",
       "A number of examples using a DataFrame with a MultiIndex\n",
       "\n",
       ">>> tuples = [\n",
       "...    ('cobra', 'mark i'), ('cobra', 'mark ii'),\n",
       "...    ('sidewinder', 'mark i'), ('sidewinder', 'mark ii'),\n",
       "...    ('viper', 'mark ii'), ('viper', 'mark iii')\n",
       "... ]\n",
       ">>> index = pd.MultiIndex.from_tuples(tuples)\n",
       ">>> values = [[12, 2], [0, 4], [10, 20],\n",
       "...         [1, 4], [7, 1], [16, 36]]\n",
       ">>> df = pd.DataFrame(values, columns=['max_speed', 'shield'], index=index)\n",
       ">>> df\n",
       "                     max_speed  shield\n",
       "cobra      mark i           12       2\n",
       "           mark ii           0       4\n",
       "sidewinder mark i           10      20\n",
       "           mark ii           1       4\n",
       "viper      mark ii           7       1\n",
       "           mark iii         16      36\n",
       "\n",
       "Single label. Note this returns a DataFrame with a single index.\n",
       "\n",
       ">>> df.loc['cobra']\n",
       "         max_speed  shield\n",
       "mark i          12       2\n",
       "mark ii          0       4\n",
       "\n",
       "Single index tuple. Note this returns a Series.\n",
       "\n",
       ">>> df.loc[('cobra', 'mark ii')]\n",
       "max_speed    0\n",
       "shield       4\n",
       "Name: (cobra, mark ii), dtype: int64\n",
       "\n",
       "Single label for row and column. Similar to passing in a tuple, this\n",
       "returns a Series.\n",
       "\n",
       ">>> df.loc['cobra', 'mark i']\n",
       "max_speed    12\n",
       "shield        2\n",
       "Name: (cobra, mark i), dtype: int64\n",
       "\n",
       "Single tuple. Note using ``[[]]`` returns a DataFrame.\n",
       "\n",
       ">>> df.loc[[('cobra', 'mark ii')]]\n",
       "               max_speed  shield\n",
       "cobra mark ii          0       4\n",
       "\n",
       "Single tuple for the index with a single label for the column\n",
       "\n",
       ">>> df.loc[('cobra', 'mark i'), 'shield']\n",
       "2\n",
       "\n",
       "Slice from index tuple to single label\n",
       "\n",
       ">>> df.loc[('cobra', 'mark i'):'viper']\n",
       "                     max_speed  shield\n",
       "cobra      mark i           12       2\n",
       "           mark ii           0       4\n",
       "sidewinder mark i           10      20\n",
       "           mark ii           1       4\n",
       "viper      mark ii           7       1\n",
       "           mark iii         16      36\n",
       "\n",
       "Slice from index tuple to index tuple\n",
       "\n",
       ">>> df.loc[('cobra', 'mark i'):('viper', 'mark ii')]\n",
       "                    max_speed  shield\n",
       "cobra      mark i          12       2\n",
       "           mark ii          0       4\n",
       "sidewinder mark i          10      20\n",
       "           mark ii          1       4\n",
       "viper      mark ii          7       1\n",
       "\n",
       "Please see the :ref:`user guide<advanced.advanced_hierarchical>`\n",
       "for more details and explanations of advanced indexing."
      ]
     },
     "metadata": {},
     "output_type": "display_data"
    }
   ],
   "source": [
    "grades.loc?\n"
   ]
  },
  {
   "cell_type": "code",
   "execution_count": 17,
   "id": "2dacfd0b-fa05-4d20-bcc8-fd5a2c5582e7",
   "metadata": {},
   "outputs": [
    {
     "data": {
      "text/plain": [
       "78.88888888888889"
      ]
     },
     "execution_count": 17,
     "metadata": {},
     "output_type": "execute_result"
    }
   ],
   "source": [
    "exam1_mean=grades.loc[grades['exam']==1]['grade'].mean()\n",
    "exam1_mean"
   ]
  },
  {
   "cell_type": "code",
   "execution_count": 18,
   "id": "d2cbbe36-df66-4205-af6b-f2880b97fcb2",
   "metadata": {},
   "outputs": [
    {
     "data": {
      "text/plain": [
       "array([ 86.,  70.,  98.,  89.,  75.,  90.,  81.,  79.,  78.,  75.,  80.,\n",
       "        87.,  82.,  95.,  96.,  78.,  80.,  87.,  89.,  90., 100.,  72.,\n",
       "        73.,  75.,  80.,  81.,  82.,  83.,  84.,  85.,  86.,  87.,  88.,\n",
       "        90.,  91.,  92.,  93.,  94.,  95.,  96.,  97.,  98.])"
      ]
     },
     "execution_count": 18,
     "metadata": {},
     "output_type": "execute_result"
    }
   ],
   "source": [
    "grades.loc[grades['grade'] >= 70]['grade'].values"
   ]
  },
  {
   "cell_type": "code",
   "execution_count": 19,
   "id": "18c5c6b5-af68-4544-a461-4e736831a5eb",
   "metadata": {},
   "outputs": [
    {
     "data": {
      "text/plain": [
       "array([65., 56., 60.])"
      ]
     },
     "execution_count": 19,
     "metadata": {},
     "output_type": "execute_result"
    }
   ],
   "source": [
    "grades.loc[grades['grade'] < 70]['grade'].values"
   ]
  },
  {
   "cell_type": "code",
   "execution_count": 20,
   "id": "c562a71b-16aa-49e7-9989-a10b4ac18b8d",
   "metadata": {},
   "outputs": [],
   "source": [
    "array0 = np.array([])"
   ]
  },
  {
   "cell_type": "code",
   "execution_count": 21,
   "id": "d298a174-7315-4602-a19f-a5f8e952ee7c",
   "metadata": {},
   "outputs": [
    {
     "data": {
      "text/plain": [
       "array([], dtype=float64)"
      ]
     },
     "execution_count": 21,
     "metadata": {},
     "output_type": "execute_result"
    }
   ],
   "source": [
    "array0"
   ]
  },
  {
   "cell_type": "code",
   "execution_count": 23,
   "id": "40f2e84c-ae2a-41d6-9e6f-e52f830b7bcf",
   "metadata": {},
   "outputs": [
    {
     "data": {
      "text/plain": [
       "[1, 2, 3, 4, 5]"
      ]
     },
     "execution_count": 23,
     "metadata": {},
     "output_type": "execute_result"
    }
   ],
   "source": [
    "list1=[1,2,3,4,5]\n",
    "list1"
   ]
  },
  {
   "cell_type": "code",
   "execution_count": 25,
   "id": "f34ffef5-7a2e-487b-bf0d-1fe8db98f4e6",
   "metadata": {},
   "outputs": [
    {
     "data": {
      "text/plain": [
       "array([1, 2, 3, 4, 5])"
      ]
     },
     "execution_count": 25,
     "metadata": {},
     "output_type": "execute_result"
    }
   ],
   "source": [
    "array1=np.array(list1)\n",
    "array1"
   ]
  },
  {
   "cell_type": "code",
   "execution_count": 26,
   "id": "5165d40b-dd61-4c5f-ba85-51b00b61b78c",
   "metadata": {},
   "outputs": [],
   "source": [
    "list2=[[1,2,3],[4,5,6],[7,8,9]]"
   ]
  },
  {
   "cell_type": "code",
   "execution_count": 27,
   "id": "ac52924d-d7cc-4f5c-a249-6aeeb9cab179",
   "metadata": {},
   "outputs": [
    {
     "data": {
      "text/plain": [
       "[[1, 2, 3], [4, 5, 6], [7, 8, 9]]"
      ]
     },
     "execution_count": 27,
     "metadata": {},
     "output_type": "execute_result"
    }
   ],
   "source": [
    "list2"
   ]
  },
  {
   "cell_type": "code",
   "execution_count": 29,
   "id": "9768919d-855f-4eda-bee5-18fab0495751",
   "metadata": {},
   "outputs": [
    {
     "data": {
      "text/plain": [
       "array([[1, 2, 3],\n",
       "       [4, 5, 6],\n",
       "       [7, 8, 9]])"
      ]
     },
     "execution_count": 29,
     "metadata": {},
     "output_type": "execute_result"
    }
   ],
   "source": [
    "array2=np.array(list2)\n",
    "array2"
   ]
  },
  {
   "cell_type": "code",
   "execution_count": 30,
   "id": "a3e275cb-67aa-40fb-949a-26e5c936c978",
   "metadata": {},
   "outputs": [
    {
     "data": {
      "text/plain": [
       "array([0, 1, 2, 3, 4])"
      ]
     },
     "execution_count": 30,
     "metadata": {},
     "output_type": "execute_result"
    }
   ],
   "source": [
    "np.arange(5)"
   ]
  },
  {
   "cell_type": "code",
   "execution_count": 31,
   "id": "867f2e56-94f3-42cf-ab68-44fbec50531c",
   "metadata": {},
   "outputs": [
    {
     "data": {
      "text/plain": [
       "array([ 0,  2,  4,  6,  8, 10])"
      ]
     },
     "execution_count": 31,
     "metadata": {},
     "output_type": "execute_result"
    }
   ],
   "source": [
    "np.arange(0,11,2)"
   ]
  },
  {
   "cell_type": "code",
   "execution_count": 32,
   "id": "4e56f901-faa7-4e3e-9627-61bd48097514",
   "metadata": {},
   "outputs": [
    {
     "data": {
      "text/plain": [
       "array([0., 0., 0., 0., 0.])"
      ]
     },
     "execution_count": 32,
     "metadata": {},
     "output_type": "execute_result"
    }
   ],
   "source": [
    "np.zeros(5)"
   ]
  },
  {
   "cell_type": "code",
   "execution_count": 33,
   "id": "568a621c-bb9f-45d2-9db9-4b816e8c9793",
   "metadata": {},
   "outputs": [
    {
     "data": {
      "text/plain": [
       "array([[0., 0., 0., 0., 0., 0.],\n",
       "       [0., 0., 0., 0., 0., 0.],\n",
       "       [0., 0., 0., 0., 0., 0.],\n",
       "       [0., 0., 0., 0., 0., 0.]])"
      ]
     },
     "execution_count": 33,
     "metadata": {},
     "output_type": "execute_result"
    }
   ],
   "source": [
    "np.zeros((4,6))"
   ]
  },
  {
   "cell_type": "code",
   "execution_count": 34,
   "id": "c722c617-b8ac-4fc2-b398-880d71a1a742",
   "metadata": {},
   "outputs": [
    {
     "data": {
      "text/plain": [
       "array([1., 1., 1., 1., 1.])"
      ]
     },
     "execution_count": 34,
     "metadata": {},
     "output_type": "execute_result"
    }
   ],
   "source": [
    "np.ones(5)"
   ]
  },
  {
   "cell_type": "code",
   "execution_count": 36,
   "id": "819e6e63-dc9e-4117-8d18-68376f579f68",
   "metadata": {},
   "outputs": [
    {
     "data": {
      "text/plain": [
       "array([[1., 1., 1., 1., 1., 1., 1., 1.],\n",
       "       [1., 1., 1., 1., 1., 1., 1., 1.],\n",
       "       [1., 1., 1., 1., 1., 1., 1., 1.],\n",
       "       [1., 1., 1., 1., 1., 1., 1., 1.],\n",
       "       [1., 1., 1., 1., 1., 1., 1., 1.],\n",
       "       [1., 1., 1., 1., 1., 1., 1., 1.],\n",
       "       [1., 1., 1., 1., 1., 1., 1., 1.]])"
      ]
     },
     "execution_count": 36,
     "metadata": {},
     "output_type": "execute_result"
    }
   ],
   "source": [
    "np.ones((7,8))"
   ]
  },
  {
   "cell_type": "code",
   "execution_count": 37,
   "id": "91cf2190-ed05-4ecc-9115-953bf27329ec",
   "metadata": {},
   "outputs": [
    {
     "data": {
      "text/plain": [
       "array([1.   , 1.125, 1.25 , 1.375, 1.5  , 1.625, 1.75 , 1.875, 2.   ])"
      ]
     },
     "execution_count": 37,
     "metadata": {},
     "output_type": "execute_result"
    }
   ],
   "source": [
    "np.linspace(1,2,9)"
   ]
  },
  {
   "cell_type": "code",
   "execution_count": 38,
   "id": "ac6ed2c3-870f-4ad3-b4c6-a2b09c867b10",
   "metadata": {},
   "outputs": [
    {
     "data": {
      "text/plain": [
       "array([0.        , 0.04761905, 0.0952381 , 0.14285714, 0.19047619,\n",
       "       0.23809524, 0.28571429, 0.33333333, 0.38095238, 0.42857143,\n",
       "       0.47619048, 0.52380952, 0.57142857, 0.61904762, 0.66666667,\n",
       "       0.71428571, 0.76190476, 0.80952381, 0.85714286, 0.9047619 ,\n",
       "       0.95238095, 1.        ])"
      ]
     },
     "execution_count": 38,
     "metadata": {},
     "output_type": "execute_result"
    }
   ],
   "source": [
    "np.linspace(0,1,22)"
   ]
  },
  {
   "cell_type": "code",
   "execution_count": 48,
   "id": "538f49fc-b561-4214-bf84-0ea6827190f6",
   "metadata": {},
   "outputs": [],
   "source": [
    "array_radom=np.random.randint(1,20,10)"
   ]
  },
  {
   "cell_type": "code",
   "execution_count": 49,
   "id": "dce1641d-e270-44a3-b2cb-c777e35a43dd",
   "metadata": {},
   "outputs": [
    {
     "data": {
      "text/plain": [
       "array([13, 15, 12, 17, 16, 16, 11, 15, 16,  8])"
      ]
     },
     "execution_count": 49,
     "metadata": {},
     "output_type": "execute_result"
    }
   ],
   "source": [
    "array_radom"
   ]
  },
  {
   "cell_type": "code",
   "execution_count": 50,
   "id": "9404793d-12da-47ba-973d-c9a4a8734f57",
   "metadata": {},
   "outputs": [
    {
     "data": {
      "text/plain": [
       "8"
      ]
     },
     "execution_count": 50,
     "metadata": {},
     "output_type": "execute_result"
    }
   ],
   "source": [
    "array_radom.min()"
   ]
  },
  {
   "cell_type": "code",
   "execution_count": 51,
   "id": "466b3140-0c5f-4aae-a7a1-42df00499082",
   "metadata": {},
   "outputs": [
    {
     "data": {
      "text/plain": [
       "17"
      ]
     },
     "execution_count": 51,
     "metadata": {},
     "output_type": "execute_result"
    }
   ],
   "source": [
    "array_radom.max()"
   ]
  },
  {
   "cell_type": "code",
   "execution_count": 53,
   "id": "34eb2c0d-f4db-48ec-b823-bc4e69cffb5d",
   "metadata": {},
   "outputs": [
    {
     "data": {
      "text/plain": [
       "9"
      ]
     },
     "execution_count": 53,
     "metadata": {},
     "output_type": "execute_result"
    }
   ],
   "source": [
    "#La posición del mínimo\n",
    "array_radom.argmin()"
   ]
  },
  {
   "cell_type": "code",
   "execution_count": 54,
   "id": "cff9bdf6-f121-45fd-9800-175c15fdf0c6",
   "metadata": {},
   "outputs": [
    {
     "data": {
      "text/plain": [
       "3"
      ]
     },
     "execution_count": 54,
     "metadata": {},
     "output_type": "execute_result"
    }
   ],
   "source": [
    "#La posición del máximo\n",
    "array_radom.argmax()"
   ]
  },
  {
   "cell_type": "code",
   "execution_count": 55,
   "id": "61cd6a76-2278-4f3e-8d68-2ef2583eeef2",
   "metadata": {},
   "outputs": [
    {
     "data": {
      "text/plain": [
       "(10,)"
      ]
     },
     "execution_count": 55,
     "metadata": {},
     "output_type": "execute_result"
    }
   ],
   "source": [
    "array_radom.shape"
   ]
  },
  {
   "cell_type": "code",
   "execution_count": 56,
   "id": "a5d66b21-f80a-4a85-9093-f18bc318b7cf",
   "metadata": {},
   "outputs": [
    {
     "data": {
      "text/plain": [
       "array([[1, 2, 3],\n",
       "       [4, 5, 6],\n",
       "       [7, 8, 9]])"
      ]
     },
     "execution_count": 56,
     "metadata": {},
     "output_type": "execute_result"
    }
   ],
   "source": [
    "array2"
   ]
  },
  {
   "cell_type": "code",
   "execution_count": 57,
   "id": "00d8a956-5207-49e6-a64d-659cc4fc2b17",
   "metadata": {},
   "outputs": [
    {
     "data": {
      "text/plain": [
       "5"
      ]
     },
     "execution_count": 57,
     "metadata": {},
     "output_type": "execute_result"
    }
   ],
   "source": [
    "array2[1][1]"
   ]
  },
  {
   "cell_type": "code",
   "execution_count": 58,
   "id": "b0a2def0-dcb4-44ce-a4c1-bdb13b05a43f",
   "metadata": {},
   "outputs": [
    {
     "data": {
      "text/plain": [
       "1"
      ]
     },
     "execution_count": 58,
     "metadata": {},
     "output_type": "execute_result"
    }
   ],
   "source": [
    "array2[0][0]\n"
   ]
  },
  {
   "cell_type": "code",
   "execution_count": 59,
   "id": "d457dabc-f841-47a7-b3a3-8396c10c621a",
   "metadata": {},
   "outputs": [
    {
     "data": {
      "text/plain": [
       "9"
      ]
     },
     "execution_count": 59,
     "metadata": {},
     "output_type": "execute_result"
    }
   ],
   "source": [
    "array2[2][2]\n"
   ]
  },
  {
   "cell_type": "code",
   "execution_count": 60,
   "id": "e8c443bd-c443-4543-a2f7-9fa49fb65bef",
   "metadata": {},
   "outputs": [
    {
     "data": {
      "text/plain": [
       "6"
      ]
     },
     "execution_count": 60,
     "metadata": {},
     "output_type": "execute_result"
    }
   ],
   "source": [
    "array2[1][2]"
   ]
  }
 ],
 "metadata": {
  "kernelspec": {
   "display_name": "Python 3 (ipykernel)",
   "language": "python",
   "name": "python3"
  },
  "language_info": {
   "codemirror_mode": {
    "name": "ipython",
    "version": 3
   },
   "file_extension": ".py",
   "mimetype": "text/x-python",
   "name": "python",
   "nbconvert_exporter": "python",
   "pygments_lexer": "ipython3",
   "version": "3.11.4"
  }
 },
 "nbformat": 4,
 "nbformat_minor": 5
}
