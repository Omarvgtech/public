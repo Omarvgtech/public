{
 "cells": [
  {
   "cell_type": "code",
   "execution_count": 41,
   "id": "81af4ddf-d70f-444d-b74b-215e92038e63",
   "metadata": {},
   "outputs": [],
   "source": [
    "import io"
   ]
  },
  {
   "cell_type": "code",
   "execution_count": 42,
   "id": "e1877260-6bcd-4233-81e6-5d29eaa57158",
   "metadata": {},
   "outputs": [],
   "source": [
    "from bs4 import BeautifulSoup"
   ]
  },
  {
   "cell_type": "code",
   "execution_count": 43,
   "id": "f83dd18e-1baa-4b66-83d3-53443daf0c82",
   "metadata": {},
   "outputs": [],
   "source": [
    "archivo=open('C:\\ejercicios\\Ejem4.0.xml','r')"
   ]
  },
  {
   "cell_type": "code",
   "execution_count": 44,
   "id": "67f8efd8-4e0a-4d01-b619-033c40a93a63",
   "metadata": {},
   "outputs": [],
   "source": [
    "xml_str=archivo.read()"
   ]
  },
  {
   "cell_type": "code",
   "execution_count": 45,
   "id": "22e713f0-d143-4150-ae80-a3a9fbfae38f",
   "metadata": {},
   "outputs": [],
   "source": [
    "archivo.close()"
   ]
  },
  {
   "cell_type": "code",
   "execution_count": 46,
   "id": "e1086596-898d-4709-b8c3-9bd8cbe10c9a",
   "metadata": {},
   "outputs": [
    {
     "data": {
      "text/plain": [
       "'<cfdi:Comprobante xsi:schemaLocation=\"http://www.sat.gob.mx/cfd/4 http://www.sat.gob.mx/sitio_internet/cfd/4/cfdv40.xsd\" Version=\"4.0\" Fecha=\"2022-01-12T19:00:06\" Sello=\"IxNswUgE5GrDWWgHRJwgDOauapdTEdGB519oVuZoRb2CEMC2B1Tu+BZHA6XG3SQJSs2hSEMRwXo2ImvZ8D1DT4nLrQbUOtLEmhdFPS3dL24k6BVM/9+xzZ0CDwiTtvSMiy7Zr6ThYUyta5f47izErG/xPzhKnBlsqWvxFuFScXVmgOopbZYHky71EnQUe4+d8hJlS5WVIzS4fZOoyQP/SnOxKwwJwx65ixQcU9hx92jeA29FlGBrN2j3LoTiPV1H15/7gm0dkPKwkE16S6UubZ/45pwdFj23TJ/YtF8Ni/uoqL5nPjlMXykQxv010+74ZXzouiPTH/5HY1B3ixkElg==\" FormaPago=\"99\" NoCertificado=\"00001000000502772173\" Certificado=\"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\" SubTotal=\"74862.51\" Moneda=\"MXN\" Total=\"86840.51\" TipoDeComprobante=\"I\" Exportacion=\"01\" MetodoPago=\"PPD\" LugarExpedicion=\"03900\" xmlns:cfdi=\"http://www.sat.gob.mx/cfd/4\" xmlns:xsi=\"http://www.w3.org/2001/XMLSchema-instance\">\\n  <cfdi:Emisor Rfc=\"PRIV...\" Nombre=\"PATITO SA DE CV\" RegimenFiscal=\"626\" />\\n  <cfdi:Receptor Rfc=\"PRIV...\" Nombre=\"HOME S DE RL DE CV\" DomicilioFiscalReceptor=\"06500\" RegimenFiscalReceptor=\"601\" UsoCFDI=\"G03\" />\\n  <cfdi:Conceptos>\\n    <cfdi:Concepto ClaveProdServ=\"80141628\" Cantidad=\"1.00\" ClaveUnidad=\"E48\" Unidad=\"Unidad de servicio\" Descripcion=\"Residual Prepago Diciembre 2021\" ValorUnitario=\"74862.51\" Importe=\"74862.51\" ObjetoImp=\"02\">\\n      <cfdi:Impuestos>\\n        <cfdi:Traslados>\\n          <cfdi:Traslado Base=\"74862.51\" Impuesto=\"002\" TipoFactor=\"Tasa\" TasaOCuota=\"0.160000\" Importe=\"11978.00\" />\\n        </cfdi:Traslados>\\n      </cfdi:Impuestos>\\n    </cfdi:Concepto>\\n  </cfdi:Conceptos>\\n  <cfdi:Impuestos TotalImpuestosTrasladados=\"11978.00\">\\n    <cfdi:Traslados>\\n      <cfdi:Traslado Base=\"74862.51\" Impuesto=\"002\" TipoFactor=\"Tasa\" TasaOCuota=\"0.160000\" Importe=\"11978.00\" />\\n    </cfdi:Traslados>\\n  </cfdi:Impuestos>\\n  <cfdi:Complemento>\\n    <tfd:TimbreFiscalDigital xmlns:tfd=\"http://www.sat.gob.mx/TimbreFiscalDigital\" xsi:schemaLocation=\"http://www.sat.gob.mx/TimbreFiscalDigital http://www.sat.gob.mx/sitio_internet/cfd/TimbreFiscalDigital/TimbreFiscalDigitalv11.xsd\" Version=\"1.1\" UUID=\"16E7F08C-4B00-5555-B8C8-56F80D462451\" FechaTimbrado=\"2022-01-12T19:02:31\" RfcProvCertif=\"SAT970701NN3\" SelloCFD=\"IxNswUgE5GrDWWgHRJwgDOauapdTEdGB519oVuZoRb2CEMC2B1Tu+BZHA6XG3SQJSs2hSEMRwXo2ImvZ8D1DT4nLrQbUOtLEmhdFPS3dL24k6BVM/9+xzZ0CDwiTtvSMiy7Zr6ThYUyta5f47izErG/xPzhKnBlsqWvxFuFScXVmgOopbZYHky71EnQUe4+d8hJlS5WVIzS4fZOoyQP/SnOxKwwJwx65ixQcU9hx92jeA29FlGBrN2j3LoTiPV1H15/7gm0dkPKwkE16S6UubZ/45pwdFj23TJ/YtF8Ni/uoqL5nPjlMXykQxv010+74ZXzouiPTH/5HY1B3ixkElg==\" NoCertificadoSAT=\"00001000000504465028\" SelloSAT=\"BTgeTjeKB6lzFwjopmRkhuIGQr5F9vL+5FESMRGKv/81BsWv5BRk8/sScVLArv2BEMmIz23Pn0C4c6NfKTi62FKPck/o/G8K0e8UmC7SdTGw/6XnYXS8lCOqCc8/XNAsLVs3Bm4lQV7ntb+Ynf8TiMFjzIfgNqkYf4SZKg+/SUNB6PO4xF4h7/XRILjE39CiPLnZiI2RGD2g6IMh6vxBVzzQI0rx48C1GrqUdmbPXR/7RF1jQtLkOK6WiKOpZSlhIpP+AB/CcJfbf/gEl0BwXlztPU/kwi5pzIcxfH8A0pv5YcV9mGiWa4/exrCEdUPcgG43pajsWyB+ggxZ1mXnSA==\" />\\n  </cfdi:Complemento>\\n</cfdi:Comprobante>'"
      ]
     },
     "execution_count": 46,
     "metadata": {},
     "output_type": "execute_result"
    }
   ],
   "source": [
    "xml_str"
   ]
  },
  {
   "cell_type": "code",
   "execution_count": 52,
   "id": "f57c8064-ad05-4ab9-a73a-a12bb7192428",
   "metadata": {},
   "outputs": [],
   "source": [
    "soup_object=BeautifulSoup(xml_str)"
   ]
  },
  {
   "cell_type": "code",
   "execution_count": 49,
   "id": "912e968f-8b8d-422f-a4f4-8934b96ad638",
   "metadata": {},
   "outputs": [
    {
     "data": {
      "text/plain": [
       "<cfdi:comprobante certificado=\"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\" exportacion=\"01\" fecha=\"2022-01-12T19:00:06\" formapago=\"99\" lugarexpedicion=\"03900\" metodopago=\"PPD\" moneda=\"MXN\" nocertificado=\"00001000000502772173\" sello=\"IxNswUgE5GrDWWgHRJwgDOauapdTEdGB519oVuZoRb2CEMC2B1Tu+BZHA6XG3SQJSs2hSEMRwXo2ImvZ8D1DT4nLrQbUOtLEmhdFPS3dL24k6BVM/9+xzZ0CDwiTtvSMiy7Zr6ThYUyta5f47izErG/xPzhKnBlsqWvxFuFScXVmgOopbZYHky71EnQUe4+d8hJlS5WVIzS4fZOoyQP/SnOxKwwJwx65ixQcU9hx92jeA29FlGBrN2j3LoTiPV1H15/7gm0dkPKwkE16S6UubZ/45pwdFj23TJ/YtF8Ni/uoqL5nPjlMXykQxv010+74ZXzouiPTH/5HY1B3ixkElg==\" subtotal=\"74862.51\" tipodecomprobante=\"I\" total=\"86840.51\" version=\"4.0\" xmlns:cfdi=\"http://www.sat.gob.mx/cfd/4\" xmlns:xsi=\"http://www.w3.org/2001/XMLSchema-instance\" xsi:schemalocation=\"http://www.sat.gob.mx/cfd/4 http://www.sat.gob.mx/sitio_internet/cfd/4/cfdv40.xsd\">\n",
       "<cfdi:emisor nombre=\"PATITO SA DE CV\" regimenfiscal=\"626\" rfc=\"PRIV...\"></cfdi:emisor>\n",
       "<cfdi:receptor domiciliofiscalreceptor=\"06500\" nombre=\"HOME S DE RL DE CV\" regimenfiscalreceptor=\"601\" rfc=\"PRIV...\" usocfdi=\"G03\"></cfdi:receptor>\n",
       "<cfdi:conceptos>\n",
       "<cfdi:concepto cantidad=\"1.00\" claveprodserv=\"80141628\" claveunidad=\"E48\" descripcion=\"Residual Prepago Diciembre 2021\" importe=\"74862.51\" objetoimp=\"02\" unidad=\"Unidad de servicio\" valorunitario=\"74862.51\">\n",
       "<cfdi:impuestos>\n",
       "<cfdi:traslados>\n",
       "<cfdi:traslado base=\"74862.51\" importe=\"11978.00\" impuesto=\"002\" tasaocuota=\"0.160000\" tipofactor=\"Tasa\"></cfdi:traslado>\n",
       "</cfdi:traslados>\n",
       "</cfdi:impuestos>\n",
       "</cfdi:concepto>\n",
       "</cfdi:conceptos>\n",
       "<cfdi:impuestos totalimpuestostrasladados=\"11978.00\">\n",
       "<cfdi:traslados>\n",
       "<cfdi:traslado base=\"74862.51\" importe=\"11978.00\" impuesto=\"002\" tasaocuota=\"0.160000\" tipofactor=\"Tasa\"></cfdi:traslado>\n",
       "</cfdi:traslados>\n",
       "</cfdi:impuestos>\n",
       "<cfdi:complemento>\n",
       "<tfd:timbrefiscaldigital fechatimbrado=\"2022-01-12T19:02:31\" nocertificadosat=\"00001000000504465028\" rfcprovcertif=\"SAT970701NN3\" sellocfd=\"IxNswUgE5GrDWWgHRJwgDOauapdTEdGB519oVuZoRb2CEMC2B1Tu+BZHA6XG3SQJSs2hSEMRwXo2ImvZ8D1DT4nLrQbUOtLEmhdFPS3dL24k6BVM/9+xzZ0CDwiTtvSMiy7Zr6ThYUyta5f47izErG/xPzhKnBlsqWvxFuFScXVmgOopbZYHky71EnQUe4+d8hJlS5WVIzS4fZOoyQP/SnOxKwwJwx65ixQcU9hx92jeA29FlGBrN2j3LoTiPV1H15/7gm0dkPKwkE16S6UubZ/45pwdFj23TJ/YtF8Ni/uoqL5nPjlMXykQxv010+74ZXzouiPTH/5HY1B3ixkElg==\" sellosat=\"BTgeTjeKB6lzFwjopmRkhuIGQr5F9vL+5FESMRGKv/81BsWv5BRk8/sScVLArv2BEMmIz23Pn0C4c6NfKTi62FKPck/o/G8K0e8UmC7SdTGw/6XnYXS8lCOqCc8/XNAsLVs3Bm4lQV7ntb+Ynf8TiMFjzIfgNqkYf4SZKg+/SUNB6PO4xF4h7/XRILjE39CiPLnZiI2RGD2g6IMh6vxBVzzQI0rx48C1GrqUdmbPXR/7RF1jQtLkOK6WiKOpZSlhIpP+AB/CcJfbf/gEl0BwXlztPU/kwi5pzIcxfH8A0pv5YcV9mGiWa4/exrCEdUPcgG43pajsWyB+ggxZ1mXnSA==\" uuid=\"16E7F08C-4B00-5555-B8C8-56F80D462451\" version=\"1.1\" xmlns:tfd=\"http://www.sat.gob.mx/TimbreFiscalDigital\" xsi:schemalocation=\"http://www.sat.gob.mx/TimbreFiscalDigital http://www.sat.gob.mx/sitio_internet/cfd/TimbreFiscalDigital/TimbreFiscalDigitalv11.xsd\"></tfd:timbrefiscaldigital>\n",
       "</cfdi:complemento>\n",
       "</cfdi:comprobante>"
      ]
     },
     "execution_count": 49,
     "metadata": {},
     "output_type": "execute_result"
    }
   ],
   "source": [
    "soup_object"
   ]
  },
  {
   "cell_type": "code",
   "execution_count": 29,
   "id": "90e6f311-81e6-4c03-be2d-ef42caaa759d",
   "metadata": {},
   "outputs": [
    {
     "data": {
      "text/plain": [
       "'<cfdi:comprobante certificado=\"MIIF5zCCA8+gAwIBAgIUMDAwMDEwMDAwMDA1MDI3NzIxNzMwDQYJKoZIhvcNAQELBQAwggGEMSAwHgYDVQQDDBdBVVRPUklEQUQgQ0VSVElGSUNBRE9SQTEuMCwGA1UECgwlU0VSVklDSU8gREUgQURNSU5JU1RSQUNJT04gVFJJQlVUQVJJQTEaMBgGA1UECwwRU0FULUlFUyBBdXRob3JpdHkxKjAoBgkqhkiG9w0BCQEWG2NvbnRhY3RvLnRlY25pY29Ac2F0LmdvYi5teDEmMCQGA1UECQwdQVYuIEhJREFMR08gNzcsIENPTC4gR1VFUlJFUk8xDjAMBgNVBBEMBTA2MzAwMQswCQYDVQQGEwJNWDEZMBcGA1UECAwQQ0lVREFEIERFIE1FWElDTzETMBEGA1UEBwwKQ1VBVUhURU1PQzEVMBMGA1UELRMMU0FUOTcwNzAxTk4zMVwwWgYJKoZIhvcNAQkCE01yZXNwb25zYWJsZTogQURNSU5JU1RSQUNJT04gQ0VOVFJBTCBERSBTRVJWSUNJT1MgVFJJQlVUQVJJT1MgQUwgQ09OVFJJQlVZRU5URTAeFw0yMDAxMTYxNTUyNTJaFw0yNDAxMTYxNTUyNTJaMIG1MR0wGwYDVQQDExRTT0xBUkUgQ0VMTCBTQSBERSBDVjEdMBsGA1UEKRMUU09MQVJFIENFTEwgU0EgREUgQ1YxHTAbBgNVBAoTFFNPTEFSRSBDRUxMIFNBIERFIENWMSUwIwYDVQQtExxTQ0UxOTAyMjhENDQgLyBHVURPNzUwMjA5RVM4MR4wHAYDVQQFExUgLyBHVURPNzUwMjA5SERGWlpNMDkxDzANBgNVBAsTBk1BVFJJWjCCASIwDQYJKoZIhvcNAQEBBQADggEPADCCAQoCggEBAJEfinogqxes2HfrF1hxXl1LO1xKnXgqpyNb4HkSgyU4AvEXAAtN6sbA2GkWEfzS4qYGEdgF0CNFY59VuRQh2Ld9Aac6sTb45Z/nH3dHZJmFw2XR58qyQw3RTc3f0B6dXAsD3mkHOcyz5YPxOO/7/srTVzDWSG/sbV+vTrCvt2Qnpj07J2eGbNWLjmaF2FkM2EklvkCuyu0RGNMjRcEiz9TdbrGpGXOJRTDlldDF81kGF1JMy6m4XWsc0mY+ELE4BvkQ+llG6toxecaa94ISHbxmiPK+OuBucaBjOQACzU/SgW1gpBAS/zwn3o4EwV4XqmU4yXeg5SeWkCJ84lIN6UkCAwEAAaMdMBswDAYDVR0TAQH/BAIwADALBgNVHQ8EBAMCBsAwDQYJKoZIhvcNAQELBQADggIBAImf3cOnlCaGXy2+VEgFcwEEKET12smXJgilliZasHhCtzbqCM7Bu9HXDmzk2Me5sfoZPlPEv3MEE0HrnugTcRseCaaiYqURwX+eAvJbeKrp3br0PlCMid7s5oeTI3Nn2j6FIKbtmJRifWzmfIvMkoAN3q01FCuzbFQmzNDFfWTeFQ3tBXFrkEUIY7ewEVmr96TOEi7fJcBQgkiWUzNBLpG5sSoOy/BWJqWHmHL61ymWFkHzL/Y5xJVoJSMU4F11Kh0vWk2ZcA2ULMeNy4MadHLnzSh+XxcV6mh4JbTcQY8Jx7W5syMIf6Ito4GEdS/anhH36ZyX8zAoQH6U3cMqCdJ7Ty+o2kiCLrKC0Y4MBWRVoZuH1v6mdB7bP0M/C3/wxjbI0FUlDX/zxqAvZ7mxWPr9SppN/ytYtS7TwFeNO5T1urj8Pn9rns4VLHy3sh5lV5lknuqJ0ugXnG6cbWY7SgNjumKnEmASB3gaM+fBFSjk4iGHTiQOH06xL3zPBtvKY7kcvTuvtBXh4m0IY9D+uu8EaLpWVpjklPXsjwg6JPLr+lUxZ9ko3jMZaHH3AbIAY4wW1859hVu51LO5qEs9A7zbCHXkDwPQ2yJmb4EWUv4h2tsA6d4MQA+vLnr8JWr1WfN+lw+i+sO32xuwgUh4ykyT/VuxRmv4gAc2rCicc/hh\" exportacion=\"01\" fecha=\"2022-01-12T19:00:06\" formapago=\"99\" lugarexpedicion=\"03900\" metodopago=\"PPD\" moneda=\"MXN\" nocertificado=\"00001000000502772173\" sello=\"IxNswUgE5GrDWWgHRJwgDOauapdTEdGB519oVuZoRb2CEMC2B1Tu+BZHA6XG3SQJSs2hSEMRwXo2ImvZ8D1DT4nLrQbUOtLEmhdFPS3dL24k6BVM/9+xzZ0CDwiTtvSMiy7Zr6ThYUyta5f47izErG/xPzhKnBlsqWvxFuFScXVmgOopbZYHky71EnQUe4+d8hJlS5WVIzS4fZOoyQP/SnOxKwwJwx65ixQcU9hx92jeA29FlGBrN2j3LoTiPV1H15/7gm0dkPKwkE16S6UubZ/45pwdFj23TJ/YtF8Ni/uoqL5nPjlMXykQxv010+74ZXzouiPTH/5HY1B3ixkElg==\" subtotal=\"74862.51\" tipodecomprobante=\"I\" total=\"86840.51\" version=\"4.0\" xmlns:cfdi=\"http://www.sat.gob.mx/cfd/4\" xmlns:xsi=\"http://www.w3.org/2001/XMLSchema-instance\" xsi:schemalocation=\"http://www.sat.gob.mx/cfd/4 http://www.sat.gob.mx/sitio_internet/cfd/4/cfdv40.xsd\">\\n <cfdi:emisor nombre=\"PATITO SA DE CV\" regimenfiscal=\"626\" rfc=\"PRIV...\">\\n </cfdi:emisor>\\n <cfdi:receptor domiciliofiscalreceptor=\"06500\" nombre=\"HOME S DE RL DE CV\" regimenfiscalreceptor=\"601\" rfc=\"PRIV...\" usocfdi=\"G03\">\\n </cfdi:receptor>\\n <cfdi:conceptos>\\n  <cfdi:concepto cantidad=\"1.00\" claveprodserv=\"80141628\" claveunidad=\"E48\" descripcion=\"Residual Prepago Diciembre 2021\" importe=\"74862.51\" objetoimp=\"02\" unidad=\"Unidad de servicio\" valorunitario=\"74862.51\">\\n   <cfdi:impuestos>\\n    <cfdi:traslados>\\n     <cfdi:traslado base=\"74862.51\" importe=\"11978.00\" impuesto=\"002\" tasaocuota=\"0.160000\" tipofactor=\"Tasa\">\\n     </cfdi:traslado>\\n    </cfdi:traslados>\\n   </cfdi:impuestos>\\n  </cfdi:concepto>\\n </cfdi:conceptos>\\n <cfdi:impuestos totalimpuestostrasladados=\"11978.00\">\\n  <cfdi:traslados>\\n   <cfdi:traslado base=\"74862.51\" importe=\"11978.00\" impuesto=\"002\" tasaocuota=\"0.160000\" tipofactor=\"Tasa\">\\n   </cfdi:traslado>\\n  </cfdi:traslados>\\n </cfdi:impuestos>\\n <cfdi:complemento>\\n  <tfd:timbrefiscaldigital fechatimbrado=\"2022-01-12T19:02:31\" nocertificadosat=\"00001000000504465028\" rfcprovcertif=\"SAT970701NN3\" sellocfd=\"IxNswUgE5GrDWWgHRJwgDOauapdTEdGB519oVuZoRb2CEMC2B1Tu+BZHA6XG3SQJSs2hSEMRwXo2ImvZ8D1DT4nLrQbUOtLEmhdFPS3dL24k6BVM/9+xzZ0CDwiTtvSMiy7Zr6ThYUyta5f47izErG/xPzhKnBlsqWvxFuFScXVmgOopbZYHky71EnQUe4+d8hJlS5WVIzS4fZOoyQP/SnOxKwwJwx65ixQcU9hx92jeA29FlGBrN2j3LoTiPV1H15/7gm0dkPKwkE16S6UubZ/45pwdFj23TJ/YtF8Ni/uoqL5nPjlMXykQxv010+74ZXzouiPTH/5HY1B3ixkElg==\" sellosat=\"BTgeTjeKB6lzFwjopmRkhuIGQr5F9vL+5FESMRGKv/81BsWv5BRk8/sScVLArv2BEMmIz23Pn0C4c6NfKTi62FKPck/o/G8K0e8UmC7SdTGw/6XnYXS8lCOqCc8/XNAsLVs3Bm4lQV7ntb+Ynf8TiMFjzIfgNqkYf4SZKg+/SUNB6PO4xF4h7/XRILjE39CiPLnZiI2RGD2g6IMh6vxBVzzQI0rx48C1GrqUdmbPXR/7RF1jQtLkOK6WiKOpZSlhIpP+AB/CcJfbf/gEl0BwXlztPU/kwi5pzIcxfH8A0pv5YcV9mGiWa4/exrCEdUPcgG43pajsWyB+ggxZ1mXnSA==\" uuid=\"16E7F08C-4B00-5555-B8C8-56F80D462451\" version=\"1.1\" xmlns:tfd=\"http://www.sat.gob.mx/TimbreFiscalDigital\" xsi:schemalocation=\"http://www.sat.gob.mx/TimbreFiscalDigital http://www.sat.gob.mx/sitio_internet/cfd/TimbreFiscalDigital/TimbreFiscalDigitalv11.xsd\">\\n  </tfd:timbrefiscaldigital>\\n </cfdi:complemento>\\n</cfdi:comprobante>\\n'"
      ]
     },
     "execution_count": 29,
     "metadata": {},
     "output_type": "execute_result"
    }
   ],
   "source": [
    "soup_object.prettify()"
   ]
  },
  {
   "cell_type": "code",
   "execution_count": 30,
   "id": "0948011b-c1fe-42cf-99df-95a22be38b7d",
   "metadata": {},
   "outputs": [],
   "source": [
    "comprobante=soup_object.find('cfdi:comprobante')"
   ]
  },
  {
   "cell_type": "code",
   "execution_count": 31,
   "id": "df8af4a3-e0dc-4bc5-92ba-558576596399",
   "metadata": {},
   "outputs": [
    {
     "data": {
      "text/plain": [
       "<cfdi:comprobante certificado=\"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\" exportacion=\"01\" fecha=\"2022-01-12T19:00:06\" formapago=\"99\" lugarexpedicion=\"03900\" metodopago=\"PPD\" moneda=\"MXN\" nocertificado=\"00001000000502772173\" sello=\"IxNswUgE5GrDWWgHRJwgDOauapdTEdGB519oVuZoRb2CEMC2B1Tu+BZHA6XG3SQJSs2hSEMRwXo2ImvZ8D1DT4nLrQbUOtLEmhdFPS3dL24k6BVM/9+xzZ0CDwiTtvSMiy7Zr6ThYUyta5f47izErG/xPzhKnBlsqWvxFuFScXVmgOopbZYHky71EnQUe4+d8hJlS5WVIzS4fZOoyQP/SnOxKwwJwx65ixQcU9hx92jeA29FlGBrN2j3LoTiPV1H15/7gm0dkPKwkE16S6UubZ/45pwdFj23TJ/YtF8Ni/uoqL5nPjlMXykQxv010+74ZXzouiPTH/5HY1B3ixkElg==\" subtotal=\"74862.51\" tipodecomprobante=\"I\" total=\"86840.51\" version=\"4.0\" xmlns:cfdi=\"http://www.sat.gob.mx/cfd/4\" xmlns:xsi=\"http://www.w3.org/2001/XMLSchema-instance\" xsi:schemalocation=\"http://www.sat.gob.mx/cfd/4 http://www.sat.gob.mx/sitio_internet/cfd/4/cfdv40.xsd\">\n",
       "<cfdi:emisor nombre=\"PATITO SA DE CV\" regimenfiscal=\"626\" rfc=\"PRIV...\"></cfdi:emisor>\n",
       "<cfdi:receptor domiciliofiscalreceptor=\"06500\" nombre=\"HOME S DE RL DE CV\" regimenfiscalreceptor=\"601\" rfc=\"PRIV...\" usocfdi=\"G03\"></cfdi:receptor>\n",
       "<cfdi:conceptos>\n",
       "<cfdi:concepto cantidad=\"1.00\" claveprodserv=\"80141628\" claveunidad=\"E48\" descripcion=\"Residual Prepago Diciembre 2021\" importe=\"74862.51\" objetoimp=\"02\" unidad=\"Unidad de servicio\" valorunitario=\"74862.51\">\n",
       "<cfdi:impuestos>\n",
       "<cfdi:traslados>\n",
       "<cfdi:traslado base=\"74862.51\" importe=\"11978.00\" impuesto=\"002\" tasaocuota=\"0.160000\" tipofactor=\"Tasa\"></cfdi:traslado>\n",
       "</cfdi:traslados>\n",
       "</cfdi:impuestos>\n",
       "</cfdi:concepto>\n",
       "</cfdi:conceptos>\n",
       "<cfdi:impuestos totalimpuestostrasladados=\"11978.00\">\n",
       "<cfdi:traslados>\n",
       "<cfdi:traslado base=\"74862.51\" importe=\"11978.00\" impuesto=\"002\" tasaocuota=\"0.160000\" tipofactor=\"Tasa\"></cfdi:traslado>\n",
       "</cfdi:traslados>\n",
       "</cfdi:impuestos>\n",
       "<cfdi:complemento>\n",
       "<tfd:timbrefiscaldigital fechatimbrado=\"2022-01-12T19:02:31\" nocertificadosat=\"00001000000504465028\" rfcprovcertif=\"SAT970701NN3\" sellocfd=\"IxNswUgE5GrDWWgHRJwgDOauapdTEdGB519oVuZoRb2CEMC2B1Tu+BZHA6XG3SQJSs2hSEMRwXo2ImvZ8D1DT4nLrQbUOtLEmhdFPS3dL24k6BVM/9+xzZ0CDwiTtvSMiy7Zr6ThYUyta5f47izErG/xPzhKnBlsqWvxFuFScXVmgOopbZYHky71EnQUe4+d8hJlS5WVIzS4fZOoyQP/SnOxKwwJwx65ixQcU9hx92jeA29FlGBrN2j3LoTiPV1H15/7gm0dkPKwkE16S6UubZ/45pwdFj23TJ/YtF8Ni/uoqL5nPjlMXykQxv010+74ZXzouiPTH/5HY1B3ixkElg==\" sellosat=\"BTgeTjeKB6lzFwjopmRkhuIGQr5F9vL+5FESMRGKv/81BsWv5BRk8/sScVLArv2BEMmIz23Pn0C4c6NfKTi62FKPck/o/G8K0e8UmC7SdTGw/6XnYXS8lCOqCc8/XNAsLVs3Bm4lQV7ntb+Ynf8TiMFjzIfgNqkYf4SZKg+/SUNB6PO4xF4h7/XRILjE39CiPLnZiI2RGD2g6IMh6vxBVzzQI0rx48C1GrqUdmbPXR/7RF1jQtLkOK6WiKOpZSlhIpP+AB/CcJfbf/gEl0BwXlztPU/kwi5pzIcxfH8A0pv5YcV9mGiWa4/exrCEdUPcgG43pajsWyB+ggxZ1mXnSA==\" uuid=\"16E7F08C-4B00-5555-B8C8-56F80D462451\" version=\"1.1\" xmlns:tfd=\"http://www.sat.gob.mx/TimbreFiscalDigital\" xsi:schemalocation=\"http://www.sat.gob.mx/TimbreFiscalDigital http://www.sat.gob.mx/sitio_internet/cfd/TimbreFiscalDigital/TimbreFiscalDigitalv11.xsd\"></tfd:timbrefiscaldigital>\n",
       "</cfdi:complemento>\n",
       "</cfdi:comprobante>"
      ]
     },
     "execution_count": 31,
     "metadata": {},
     "output_type": "execute_result"
    }
   ],
   "source": [
    "comprobante"
   ]
  },
  {
   "cell_type": "code",
   "execution_count": 32,
   "id": "099dfebd-a93d-47ae-bf17-064ab62c68f1",
   "metadata": {},
   "outputs": [
    {
     "data": {
      "text/plain": [
       "bs4.element.Tag"
      ]
     },
     "execution_count": 32,
     "metadata": {},
     "output_type": "execute_result"
    }
   ],
   "source": [
    "type(comprobante)"
   ]
  },
  {
   "cell_type": "code",
   "execution_count": 33,
   "id": "b196fd49-b534-47cd-b72a-c60ed799a48e",
   "metadata": {},
   "outputs": [
    {
     "data": {
      "text/plain": [
       "{'xsi:schemalocation': 'http://www.sat.gob.mx/cfd/4 http://www.sat.gob.mx/sitio_internet/cfd/4/cfdv40.xsd',\n",
       " 'version': '4.0',\n",
       " 'fecha': '2022-01-12T19:00:06',\n",
       " 'sello': 'IxNswUgE5GrDWWgHRJwgDOauapdTEdGB519oVuZoRb2CEMC2B1Tu+BZHA6XG3SQJSs2hSEMRwXo2ImvZ8D1DT4nLrQbUOtLEmhdFPS3dL24k6BVM/9+xzZ0CDwiTtvSMiy7Zr6ThYUyta5f47izErG/xPzhKnBlsqWvxFuFScXVmgOopbZYHky71EnQUe4+d8hJlS5WVIzS4fZOoyQP/SnOxKwwJwx65ixQcU9hx92jeA29FlGBrN2j3LoTiPV1H15/7gm0dkPKwkE16S6UubZ/45pwdFj23TJ/YtF8Ni/uoqL5nPjlMXykQxv010+74ZXzouiPTH/5HY1B3ixkElg==',\n",
       " 'formapago': '99',\n",
       " 'nocertificado': '00001000000502772173',\n",
       " 'certificado': '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',\n",
       " 'subtotal': '74862.51',\n",
       " 'moneda': 'MXN',\n",
       " 'total': '86840.51',\n",
       " 'tipodecomprobante': 'I',\n",
       " 'exportacion': '01',\n",
       " 'metodopago': 'PPD',\n",
       " 'lugarexpedicion': '03900',\n",
       " 'xmlns:cfdi': 'http://www.sat.gob.mx/cfd/4',\n",
       " 'xmlns:xsi': 'http://www.w3.org/2001/XMLSchema-instance'}"
      ]
     },
     "execution_count": 33,
     "metadata": {},
     "output_type": "execute_result"
    }
   ],
   "source": [
    "comprobante.attrs"
   ]
  },
  {
   "cell_type": "code",
   "execution_count": 34,
   "id": "366b4b0f-b1d2-408e-a3be-fb7e88f71c5f",
   "metadata": {},
   "outputs": [],
   "source": [
    "atributos=comprobante.attrs"
   ]
  },
  {
   "cell_type": "code",
   "execution_count": 35,
   "id": "2c4ea532-ab68-4bf0-82cc-f6dafadd5bd9",
   "metadata": {},
   "outputs": [
    {
     "data": {
      "text/plain": [
       "'86840.51'"
      ]
     },
     "execution_count": 35,
     "metadata": {},
     "output_type": "execute_result"
    }
   ],
   "source": [
    "atributos['total']"
   ]
  },
  {
   "cell_type": "code",
   "execution_count": 36,
   "id": "24442e94-d65a-471a-a253-eef1c6373e9a",
   "metadata": {},
   "outputs": [
    {
     "data": {
      "text/plain": [
       "'MXN'"
      ]
     },
     "execution_count": 36,
     "metadata": {},
     "output_type": "execute_result"
    }
   ],
   "source": [
    "atributos['moneda']"
   ]
  },
  {
   "cell_type": "code",
   "execution_count": 37,
   "id": "dfe36b35-5441-4f47-accf-2eb6d3b938dc",
   "metadata": {},
   "outputs": [
    {
     "data": {
      "text/plain": [
       "'2022-01-12T19:00:06'"
      ]
     },
     "execution_count": 37,
     "metadata": {},
     "output_type": "execute_result"
    }
   ],
   "source": [
    "atributos['fecha']"
   ]
  },
  {
   "cell_type": "code",
   "execution_count": 40,
   "id": "0e18ede4-03e4-4d12-a4d6-fdfa9dcfecce",
   "metadata": {},
   "outputs": [
    {
     "data": {
      "text/plain": [
       "'74862.51'"
      ]
     },
     "execution_count": 40,
     "metadata": {},
     "output_type": "execute_result"
    }
   ],
   "source": [
    "atributos['subtotal']"
   ]
  },
  {
   "cell_type": "code",
   "execution_count": 53,
   "id": "c9be3741-73f6-4871-8254-26d02fe77e4a",
   "metadata": {},
   "outputs": [],
   "source": [
    "total=eval(atributos['total'])"
   ]
  },
  {
   "cell_type": "code",
   "execution_count": 54,
   "id": "491cc1eb-69a5-4d5e-b087-81209b37d73e",
   "metadata": {},
   "outputs": [
    {
     "data": {
      "text/plain": [
       "86840.51"
      ]
     },
     "execution_count": 54,
     "metadata": {},
     "output_type": "execute_result"
    }
   ],
   "source": [
    "total"
   ]
  },
  {
   "cell_type": "code",
   "execution_count": 56,
   "id": "ddec9d98-5033-4410-a791-bf02a40fee9b",
   "metadata": {},
   "outputs": [
    {
     "data": {
      "text/plain": [
       "<cfdi:emisor nombre=\"PATITO SA DE CV\" regimenfiscal=\"626\" rfc=\"PRIV...\"></cfdi:emisor>"
      ]
     },
     "execution_count": 56,
     "metadata": {},
     "output_type": "execute_result"
    }
   ],
   "source": [
    "emisor=soup_object.find('cfdi:emisor')\n",
    "emisor"
   ]
  },
  {
   "cell_type": "code",
   "execution_count": 57,
   "id": "b45d5a43-9181-4f64-b6ad-5d762a19e978",
   "metadata": {},
   "outputs": [
    {
     "data": {
      "text/plain": [
       "{'rfc': 'PRIV...', 'nombre': 'PATITO SA DE CV', 'regimenfiscal': '626'}"
      ]
     },
     "execution_count": 57,
     "metadata": {},
     "output_type": "execute_result"
    }
   ],
   "source": [
    "emisor.attrs"
   ]
  },
  {
   "cell_type": "code",
   "execution_count": 60,
   "id": "e2d3a165-3e6e-40e8-8168-8346277c08d7",
   "metadata": {},
   "outputs": [
    {
     "data": {
      "text/plain": [
       "'PATITO SA DE CV'"
      ]
     },
     "execution_count": 60,
     "metadata": {},
     "output_type": "execute_result"
    }
   ],
   "source": [
    "nombreEmisor=emisor.attrs['nombre']\n",
    "nombreEmisor"
   ]
  },
  {
   "cell_type": "code",
   "execution_count": 62,
   "id": "ba1cb17c-2007-424d-a3c5-09f96e765bad",
   "metadata": {},
   "outputs": [
    {
     "data": {
      "text/plain": [
       "'PRIV...'"
      ]
     },
     "execution_count": 62,
     "metadata": {},
     "output_type": "execute_result"
    }
   ],
   "source": [
    "rfcEmisor=emisor.attrs['rfc']\n",
    "rfcEmisor"
   ]
  },
  {
   "cell_type": "code",
   "execution_count": 71,
   "id": "4db99dfc-0891-4673-9c1d-d5beb1bffa3e",
   "metadata": {},
   "outputs": [
    {
     "data": {
      "text/plain": [
       "<cfdi:conceptos>\n",
       "<cfdi:concepto cantidad=\"1.00\" claveprodserv=\"80141628\" claveunidad=\"E48\" descripcion=\"Residual Prepago Diciembre 2021\" importe=\"74862.51\" objetoimp=\"02\" unidad=\"Unidad de servicio\" valorunitario=\"74862.51\">\n",
       "<cfdi:impuestos>\n",
       "<cfdi:traslados>\n",
       "<cfdi:traslado base=\"74862.51\" importe=\"11978.00\" impuesto=\"002\" tasaocuota=\"0.160000\" tipofactor=\"Tasa\"></cfdi:traslado>\n",
       "</cfdi:traslados>\n",
       "</cfdi:impuestos>\n",
       "</cfdi:concepto>\n",
       "</cfdi:conceptos>"
      ]
     },
     "execution_count": 71,
     "metadata": {},
     "output_type": "execute_result"
    }
   ],
   "source": [
    "conceptos=soup_object.find('cfdi:conceptos')\n",
    "conceptos"
   ]
  },
  {
   "cell_type": "code",
   "execution_count": 83,
   "id": "5784ecc9-c6c1-4c5d-a97b-e514b0d110ac",
   "metadata": {},
   "outputs": [
    {
     "name": "stdout",
     "output_type": "stream",
     "text": [
      "\n",
      "\n",
      "<class 'bs4.element.NavigableString'>\n",
      "<cfdi:concepto cantidad=\"1.00\" claveprodserv=\"80141628\" claveunidad=\"E48\" descripcion=\"Residual Prepago Diciembre 2021\" importe=\"74862.51\" objetoimp=\"02\" unidad=\"Unidad de servicio\" valorunitario=\"74862.51\">\n",
      "<cfdi:impuestos>\n",
      "<cfdi:traslados>\n",
      "<cfdi:traslado base=\"74862.51\" importe=\"11978.00\" impuesto=\"002\" tasaocuota=\"0.160000\" tipofactor=\"Tasa\"></cfdi:traslado>\n",
      "</cfdi:traslados>\n",
      "</cfdi:impuestos>\n",
      "</cfdi:concepto>\n",
      "<class 'bs4.element.Tag'>\n",
      "\n",
      "\n",
      "<class 'bs4.element.NavigableString'>\n"
     ]
    }
   ],
   "source": [
    "for concepto in conceptos:\n",
    "    print(concepto)\n",
    "    print(type(concepto))"
   ]
  },
  {
   "cell_type": "code",
   "execution_count": 84,
   "id": "56b0b16c-d4b9-4764-9a2c-e66441dca783",
   "metadata": {},
   "outputs": [],
   "source": [
    "concepto=soup_object.find('cfdi:concepto')"
   ]
  },
  {
   "cell_type": "code",
   "execution_count": 86,
   "id": "1f0117b7-8171-4492-a4a2-489b3b5ae69c",
   "metadata": {},
   "outputs": [
    {
     "data": {
      "text/plain": [
       "<cfdi:concepto cantidad=\"1.00\" claveprodserv=\"80141628\" claveunidad=\"E48\" descripcion=\"Residual Prepago Diciembre 2021\" importe=\"74862.51\" objetoimp=\"02\" unidad=\"Unidad de servicio\" valorunitario=\"74862.51\">\n",
       "<cfdi:impuestos>\n",
       "<cfdi:traslados>\n",
       "<cfdi:traslado base=\"74862.51\" importe=\"11978.00\" impuesto=\"002\" tasaocuota=\"0.160000\" tipofactor=\"Tasa\"></cfdi:traslado>\n",
       "</cfdi:traslados>\n",
       "</cfdi:impuestos>\n",
       "</cfdi:concepto>"
      ]
     },
     "execution_count": 86,
     "metadata": {},
     "output_type": "execute_result"
    }
   ],
   "source": [
    "concepto"
   ]
  },
  {
   "cell_type": "code",
   "execution_count": 87,
   "id": "f005e05b-b276-418c-af9d-93779edd63f1",
   "metadata": {},
   "outputs": [
    {
     "data": {
      "text/plain": [
       "{'claveprodserv': '80141628',\n",
       " 'cantidad': '1.00',\n",
       " 'claveunidad': 'E48',\n",
       " 'unidad': 'Unidad de servicio',\n",
       " 'descripcion': 'Residual Prepago Diciembre 2021',\n",
       " 'valorunitario': '74862.51',\n",
       " 'importe': '74862.51',\n",
       " 'objetoimp': '02'}"
      ]
     },
     "execution_count": 87,
     "metadata": {},
     "output_type": "execute_result"
    }
   ],
   "source": [
    "concepto.attrs"
   ]
  },
  {
   "cell_type": "code",
   "execution_count": 88,
   "id": "00af42bb-ba82-438a-9821-aff6b5b24607",
   "metadata": {},
   "outputs": [
    {
     "data": {
      "text/plain": [
       "'Residual Prepago Diciembre 2021'"
      ]
     },
     "execution_count": 88,
     "metadata": {},
     "output_type": "execute_result"
    }
   ],
   "source": [
    "concepto.attrs['descripcion']"
   ]
  },
  {
   "cell_type": "code",
   "execution_count": 89,
   "id": "e29b89d6-436c-49aa-b943-c970465b4fdd",
   "metadata": {},
   "outputs": [
    {
     "data": {
      "text/plain": [
       "'1.00'"
      ]
     },
     "execution_count": 89,
     "metadata": {},
     "output_type": "execute_result"
    }
   ],
   "source": [
    "concepto.attrs['cantidad']"
   ]
  },
  {
   "cell_type": "code",
   "execution_count": 90,
   "id": "cb1d58ed-d44e-489e-8bf0-7f5b99f0bab7",
   "metadata": {},
   "outputs": [
    {
     "data": {
      "text/plain": [
       "'74862.51'"
      ]
     },
     "execution_count": 90,
     "metadata": {},
     "output_type": "execute_result"
    }
   ],
   "source": [
    "concepto.attrs['importe']"
   ]
  },
  {
   "cell_type": "code",
   "execution_count": 91,
   "id": "8fc68a06-b554-4912-9418-f5d68bb66d7d",
   "metadata": {},
   "outputs": [],
   "source": [
    "iva=soup_object.find('cfdi:traslado')"
   ]
  },
  {
   "cell_type": "code",
   "execution_count": 92,
   "id": "ceea7698-16ae-45da-bdda-b1a4915d7652",
   "metadata": {},
   "outputs": [
    {
     "data": {
      "text/plain": [
       "<cfdi:traslado base=\"74862.51\" importe=\"11978.00\" impuesto=\"002\" tasaocuota=\"0.160000\" tipofactor=\"Tasa\"></cfdi:traslado>"
      ]
     },
     "execution_count": 92,
     "metadata": {},
     "output_type": "execute_result"
    }
   ],
   "source": [
    "iva"
   ]
  },
  {
   "cell_type": "code",
   "execution_count": 93,
   "id": "9c5fb270-4cfd-44b7-ade3-121cb379e5c1",
   "metadata": {},
   "outputs": [
    {
     "data": {
      "text/plain": [
       "'11978.00'"
      ]
     },
     "execution_count": 93,
     "metadata": {},
     "output_type": "execute_result"
    }
   ],
   "source": [
    "iva.attrs['importe']"
   ]
  },
  {
   "cell_type": "code",
   "execution_count": 94,
   "id": "d6722f45-e7bd-4171-b8c7-8d6c777f2bbd",
   "metadata": {},
   "outputs": [
    {
     "data": {
      "text/plain": [
       "'0.160000'"
      ]
     },
     "execution_count": 94,
     "metadata": {},
     "output_type": "execute_result"
    }
   ],
   "source": [
    "iva.attrs['tasaocuota']"
   ]
  },
  {
   "cell_type": "code",
   "execution_count": 95,
   "id": "f505466c-78db-476b-9ab3-a90903919a4e",
   "metadata": {},
   "outputs": [
    {
     "data": {
      "text/plain": [
       "'74862.51'"
      ]
     },
     "execution_count": 95,
     "metadata": {},
     "output_type": "execute_result"
    }
   ],
   "source": [
    "iva.attrs['base']"
   ]
  }
 ],
 "metadata": {
  "kernelspec": {
   "display_name": "Python 3 (ipykernel)",
   "language": "python",
   "name": "python3"
  },
  "language_info": {
   "codemirror_mode": {
    "name": "ipython",
    "version": 3
   },
   "file_extension": ".py",
   "mimetype": "text/x-python",
   "name": "python",
   "nbconvert_exporter": "python",
   "pygments_lexer": "ipython3",
   "version": "3.11.4"
  }
 },
 "nbformat": 4,
 "nbformat_minor": 5
}
