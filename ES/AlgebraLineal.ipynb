{
 "cells": [
  {
   "cell_type": "code",
   "execution_count": 1,
   "id": "f1c3bbe6-1ebd-4e18-abb8-9b2db3fcd93c",
   "metadata": {},
   "outputs": [],
   "source": [
    "from scipy import linalg"
   ]
  },
  {
   "cell_type": "code",
   "execution_count": 2,
   "id": "10db7c61-6ff7-4d56-b588-3d50f33783d8",
   "metadata": {},
   "outputs": [],
   "source": [
    "import numpy as np"
   ]
  },
  {
   "cell_type": "code",
   "execution_count": 3,
   "id": "2144cb59-3b92-4f06-9d53-b335b024445d",
   "metadata": {},
   "outputs": [
    {
     "data": {
      "text/plain": [
       "\u001b[1;31mType:\u001b[0m        module\n",
       "\u001b[1;31mString form:\u001b[0m <module 'scipy.linalg' from 'C:\\\\Users\\\\fusion\\\\AppData\\\\Roaming\\\\Python\\\\Python311\\\\site-packages\\\\scipy\\\\linalg\\\\__init__.py'>\n",
       "\u001b[1;31mFile:\u001b[0m        c:\\users\\fusion\\appdata\\roaming\\python\\python311\\site-packages\\scipy\\linalg\\__init__.py\n",
       "\u001b[1;31mDocstring:\u001b[0m  \n",
       "====================================\n",
       "Linear algebra (:mod:`scipy.linalg`)\n",
       "====================================\n",
       "\n",
       ".. currentmodule:: scipy.linalg\n",
       "\n",
       ".. toctree::\n",
       "   :hidden:\n",
       "\n",
       "   linalg.blas\n",
       "   linalg.cython_blas\n",
       "   linalg.cython_lapack\n",
       "   linalg.interpolative\n",
       "   linalg.lapack\n",
       "\n",
       "Linear algebra functions.\n",
       "\n",
       ".. eventually, we should replace the numpy.linalg HTML link with just `numpy.linalg`\n",
       "\n",
       ".. seealso::\n",
       "\n",
       "   `numpy.linalg <https://www.numpy.org/devdocs/reference/routines.linalg.html>`__\n",
       "   for more linear algebra functions. Note that\n",
       "   although `scipy.linalg` imports most of them, identically named\n",
       "   functions from `scipy.linalg` may offer more or slightly differing\n",
       "   functionality.\n",
       "\n",
       "\n",
       "Basics\n",
       "======\n",
       "\n",
       ".. autosummary::\n",
       "   :toctree: generated/\n",
       "\n",
       "   inv - Find the inverse of a square matrix\n",
       "   solve - Solve a linear system of equations\n",
       "   solve_banded - Solve a banded linear system\n",
       "   solveh_banded - Solve a Hermitian or symmetric banded system\n",
       "   solve_circulant - Solve a circulant system\n",
       "   solve_triangular - Solve a triangular matrix\n",
       "   solve_toeplitz - Solve a toeplitz matrix\n",
       "   matmul_toeplitz - Multiply a Toeplitz matrix with an array.\n",
       "   det - Find the determinant of a square matrix\n",
       "   norm - Matrix and vector norm\n",
       "   lstsq - Solve a linear least-squares problem\n",
       "   pinv - Pseudo-inverse (Moore-Penrose) using lstsq\n",
       "   pinvh - Pseudo-inverse of hermitian matrix\n",
       "   kron - Kronecker product of two arrays\n",
       "   khatri_rao - Khatri-Rao product of two arrays\n",
       "   tril - Construct a lower-triangular matrix from a given matrix\n",
       "   triu - Construct an upper-triangular matrix from a given matrix\n",
       "   orthogonal_procrustes - Solve an orthogonal Procrustes problem\n",
       "   matrix_balance - Balance matrix entries with a similarity transformation\n",
       "   subspace_angles - Compute the subspace angles between two matrices\n",
       "   bandwidth - Return the lower and upper bandwidth of an array\n",
       "   issymmetric - Check if a square 2D array is symmetric\n",
       "   ishermitian - Check if a square 2D array is Hermitian\n",
       "   LinAlgError\n",
       "   LinAlgWarning\n",
       "\n",
       "Eigenvalue Problems\n",
       "===================\n",
       "\n",
       ".. autosummary::\n",
       "   :toctree: generated/\n",
       "\n",
       "   eig - Find the eigenvalues and eigenvectors of a square matrix\n",
       "   eigvals - Find just the eigenvalues of a square matrix\n",
       "   eigh - Find the e-vals and e-vectors of a Hermitian or symmetric matrix\n",
       "   eigvalsh - Find just the eigenvalues of a Hermitian or symmetric matrix\n",
       "   eig_banded - Find the eigenvalues and eigenvectors of a banded matrix\n",
       "   eigvals_banded - Find just the eigenvalues of a banded matrix\n",
       "   eigh_tridiagonal - Find the eigenvalues and eigenvectors of a tridiagonal matrix\n",
       "   eigvalsh_tridiagonal - Find just the eigenvalues of a tridiagonal matrix\n",
       "\n",
       "Decompositions\n",
       "==============\n",
       "\n",
       ".. autosummary::\n",
       "   :toctree: generated/\n",
       "\n",
       "   lu - LU decomposition of a matrix\n",
       "   lu_factor - LU decomposition returning unordered matrix and pivots\n",
       "   lu_solve - Solve Ax=b using back substitution with output of lu_factor\n",
       "   svd - Singular value decomposition of a matrix\n",
       "   svdvals - Singular values of a matrix\n",
       "   diagsvd - Construct matrix of singular values from output of svd\n",
       "   orth - Construct orthonormal basis for the range of A using svd\n",
       "   null_space - Construct orthonormal basis for the null space of A using svd\n",
       "   ldl - LDL.T decomposition of a Hermitian or a symmetric matrix.\n",
       "   cholesky - Cholesky decomposition of a matrix\n",
       "   cholesky_banded - Cholesky decomp. of a sym. or Hermitian banded matrix\n",
       "   cho_factor - Cholesky decomposition for use in solving a linear system\n",
       "   cho_solve - Solve previously factored linear system\n",
       "   cho_solve_banded - Solve previously factored banded linear system\n",
       "   polar - Compute the polar decomposition.\n",
       "   qr - QR decomposition of a matrix\n",
       "   qr_multiply - QR decomposition and multiplication by Q\n",
       "   qr_update - Rank k QR update\n",
       "   qr_delete - QR downdate on row or column deletion\n",
       "   qr_insert - QR update on row or column insertion\n",
       "   rq - RQ decomposition of a matrix\n",
       "   qz - QZ decomposition of a pair of matrices\n",
       "   ordqz - QZ decomposition of a pair of matrices with reordering\n",
       "   schur - Schur decomposition of a matrix\n",
       "   rsf2csf - Real to complex Schur form\n",
       "   hessenberg - Hessenberg form of a matrix\n",
       "   cdf2rdf - Complex diagonal form to real diagonal block form\n",
       "   cossin - Cosine sine decomposition of a unitary or orthogonal matrix\n",
       "\n",
       ".. seealso::\n",
       "\n",
       "   `scipy.linalg.interpolative` -- Interpolative matrix decompositions\n",
       "\n",
       "\n",
       "Matrix Functions\n",
       "================\n",
       "\n",
       ".. autosummary::\n",
       "   :toctree: generated/\n",
       "\n",
       "   expm - Matrix exponential\n",
       "   logm - Matrix logarithm\n",
       "   cosm - Matrix cosine\n",
       "   sinm - Matrix sine\n",
       "   tanm - Matrix tangent\n",
       "   coshm - Matrix hyperbolic cosine\n",
       "   sinhm - Matrix hyperbolic sine\n",
       "   tanhm - Matrix hyperbolic tangent\n",
       "   signm - Matrix sign\n",
       "   sqrtm - Matrix square root\n",
       "   funm - Evaluating an arbitrary matrix function\n",
       "   expm_frechet - Frechet derivative of the matrix exponential\n",
       "   expm_cond - Relative condition number of expm in the Frobenius norm\n",
       "   fractional_matrix_power - Fractional matrix power\n",
       "\n",
       "\n",
       "Matrix Equation Solvers\n",
       "=======================\n",
       "\n",
       ".. autosummary::\n",
       "   :toctree: generated/\n",
       "\n",
       "   solve_sylvester - Solve the Sylvester matrix equation\n",
       "   solve_continuous_are - Solve the continuous-time algebraic Riccati equation\n",
       "   solve_discrete_are - Solve the discrete-time algebraic Riccati equation\n",
       "   solve_continuous_lyapunov - Solve the continuous-time Lyapunov equation\n",
       "   solve_discrete_lyapunov - Solve the discrete-time Lyapunov equation\n",
       "\n",
       "\n",
       "Sketches and Random Projections\n",
       "===============================\n",
       "\n",
       ".. autosummary::\n",
       "   :toctree: generated/\n",
       "\n",
       "   clarkson_woodruff_transform - Applies the Clarkson Woodruff Sketch (a.k.a CountMin Sketch)\n",
       "\n",
       "Special Matrices\n",
       "================\n",
       "\n",
       ".. autosummary::\n",
       "   :toctree: generated/\n",
       "\n",
       "   block_diag - Construct a block diagonal matrix from submatrices\n",
       "   circulant - Circulant matrix\n",
       "   companion - Companion matrix\n",
       "   convolution_matrix - Convolution matrix\n",
       "   dft - Discrete Fourier transform matrix\n",
       "   fiedler - Fiedler matrix\n",
       "   fiedler_companion - Fiedler companion matrix\n",
       "   hadamard - Hadamard matrix of order 2**n\n",
       "   hankel - Hankel matrix\n",
       "   helmert - Helmert matrix\n",
       "   hilbert - Hilbert matrix\n",
       "   invhilbert - Inverse Hilbert matrix\n",
       "   leslie - Leslie matrix\n",
       "   pascal - Pascal matrix\n",
       "   invpascal - Inverse Pascal matrix\n",
       "   toeplitz - Toeplitz matrix\n",
       "   tri - Construct a matrix filled with ones at and below a given diagonal\n",
       "\n",
       "Low-level routines\n",
       "==================\n",
       "\n",
       ".. autosummary::\n",
       "   :toctree: generated/\n",
       "\n",
       "   get_blas_funcs\n",
       "   get_lapack_funcs\n",
       "   find_best_blas_type\n",
       "\n",
       ".. seealso::\n",
       "\n",
       "   `scipy.linalg.blas` -- Low-level BLAS functions\n",
       "\n",
       "   `scipy.linalg.lapack` -- Low-level LAPACK functions\n",
       "\n",
       "   `scipy.linalg.cython_blas` -- Low-level BLAS functions for Cython\n",
       "\n",
       "   `scipy.linalg.cython_lapack` -- Low-level LAPACK functions for Cython"
      ]
     },
     "metadata": {},
     "output_type": "display_data"
    }
   ],
   "source": [
    "linalg?"
   ]
  },
  {
   "cell_type": "code",
   "execution_count": 4,
   "id": "fcb52fb2-291b-494c-a5eb-a5b96e77c8ea",
   "metadata": {},
   "outputs": [],
   "source": [
    "a=np.array([[1,0,3],[0,1,-2],[1,1,2]])\n"
   ]
  },
  {
   "cell_type": "code",
   "execution_count": 5,
   "id": "0e413a65-a20f-49e8-992f-7684b5b37a13",
   "metadata": {},
   "outputs": [
    {
     "data": {
      "text/plain": [
       "array([[ 1,  0,  3],\n",
       "       [ 0,  1, -2],\n",
       "       [ 1,  1,  2]])"
      ]
     },
     "execution_count": 5,
     "metadata": {},
     "output_type": "execute_result"
    }
   ],
   "source": [
    "a"
   ]
  },
  {
   "cell_type": "code",
   "execution_count": 6,
   "id": "c2fdd303-36e8-4993-b3ef-f4c0a7c1963b",
   "metadata": {},
   "outputs": [
    {
     "data": {
      "text/plain": [
       "0.9999999999999998"
      ]
     },
     "execution_count": 6,
     "metadata": {},
     "output_type": "execute_result"
    }
   ],
   "source": [
    "linalg.det(a)"
   ]
  },
  {
   "cell_type": "code",
   "execution_count": 7,
   "id": "e62a5240-f956-4c59-8d12-925f630b3bcf",
   "metadata": {},
   "outputs": [
    {
     "data": {
      "text/plain": [
       "array([[ 4.,  3., -3.],\n",
       "       [-2., -1.,  2.],\n",
       "       [-1., -1.,  1.]])"
      ]
     },
     "execution_count": 7,
     "metadata": {},
     "output_type": "execute_result"
    }
   ],
   "source": [
    "linalg.inv(a)"
   ]
  },
  {
   "cell_type": "code",
   "execution_count": 8,
   "id": "5cf8dce1-f930-4731-afa8-1e61acb22c4e",
   "metadata": {},
   "outputs": [
    {
     "data": {
      "text/plain": [
       "array([[7, 2],\n",
       "       [4, 5]])"
      ]
     },
     "execution_count": 8,
     "metadata": {},
     "output_type": "execute_result"
    }
   ],
   "source": [
    "a=np.array([[7,2],[4,5]])\n",
    "a"
   ]
  },
  {
   "cell_type": "code",
   "execution_count": 10,
   "id": "1d87e8ea-8ef5-4854-bc1b-a3a7c0c57542",
   "metadata": {},
   "outputs": [
    {
     "data": {
      "text/plain": [
       "array([ 8, 10])"
      ]
     },
     "execution_count": 10,
     "metadata": {},
     "output_type": "execute_result"
    }
   ],
   "source": [
    "b=np.array([8,10])\n",
    "b"
   ]
  },
  {
   "cell_type": "code",
   "execution_count": 11,
   "id": "8cfcdffb-0f0e-4203-9342-da5ada3c7986",
   "metadata": {},
   "outputs": [
    {
     "data": {
      "text/plain": [
       "array([0.74074074, 1.40740741])"
      ]
     },
     "execution_count": 11,
     "metadata": {},
     "output_type": "execute_result"
    }
   ],
   "source": [
    "linalg.solve(a,b)"
   ]
  },
  {
   "cell_type": "code",
   "execution_count": 12,
   "id": "a57f6f14-a106-4c2c-ba95-1f182ee93f41",
   "metadata": {},
   "outputs": [],
   "source": [
    "a=np.array([[2,4,6],[2,-3,-4],[3,4,5]])"
   ]
  },
  {
   "cell_type": "code",
   "execution_count": 13,
   "id": "1faa42fe-1b68-450b-b2f1-b1120d4d61b6",
   "metadata": {},
   "outputs": [],
   "source": [
    "b=np.array([-12,15,-8])"
   ]
  },
  {
   "cell_type": "code",
   "execution_count": 14,
   "id": "94a58747-8079-430b-aa99-0bf0c30efbd4",
   "metadata": {},
   "outputs": [
    {
     "data": {
      "text/plain": [
       "array([ 2., -1., -2.])"
      ]
     },
     "execution_count": 14,
     "metadata": {},
     "output_type": "execute_result"
    }
   ],
   "source": [
    "linalg.solve(a,b)"
   ]
  },
  {
   "cell_type": "code",
   "execution_count": 15,
   "id": "ed76ef00-097b-4e35-9657-a63ab2944f7d",
   "metadata": {},
   "outputs": [
    {
     "data": {
      "text/plain": [
       "array([[ 2,  4,  6],\n",
       "       [ 2, -3, -4],\n",
       "       [ 3,  4,  5]])"
      ]
     },
     "execution_count": 15,
     "metadata": {},
     "output_type": "execute_result"
    }
   ],
   "source": [
    "a\n"
   ]
  },
  {
   "cell_type": "code",
   "execution_count": 16,
   "id": "bfa0565a-067d-4680-8a16-0b749f758326",
   "metadata": {},
   "outputs": [
    {
     "data": {
      "text/plain": [
       "16.000000000000007"
      ]
     },
     "execution_count": 16,
     "metadata": {},
     "output_type": "execute_result"
    }
   ],
   "source": [
    "linalg.det(a)"
   ]
  },
  {
   "cell_type": "code",
   "execution_count": 18,
   "id": "cd4dda2a-3302-4fe7-941b-5a9bf5686649",
   "metadata": {},
   "outputs": [],
   "source": [
    "(x,y,z)=linalg.solve(a,b)"
   ]
  },
  {
   "cell_type": "code",
   "execution_count": 19,
   "id": "3fd3a33e-cba2-44de-bbdd-067fe992c020",
   "metadata": {},
   "outputs": [
    {
     "data": {
      "text/plain": [
       "2.0000000000000004"
      ]
     },
     "execution_count": 19,
     "metadata": {},
     "output_type": "execute_result"
    }
   ],
   "source": [
    "x"
   ]
  },
  {
   "cell_type": "code",
   "execution_count": 20,
   "id": "47be9261-9105-4d89-8ff0-e7cd0fca9c19",
   "metadata": {},
   "outputs": [
    {
     "data": {
      "text/plain": [
       "-1.0000000000000013"
      ]
     },
     "execution_count": 20,
     "metadata": {},
     "output_type": "execute_result"
    }
   ],
   "source": [
    "y"
   ]
  },
  {
   "cell_type": "code",
   "execution_count": 21,
   "id": "c5303aa3-0f10-4428-99fc-11a7e128e7c2",
   "metadata": {},
   "outputs": [
    {
     "data": {
      "text/plain": [
       "-1.9999999999999991"
      ]
     },
     "execution_count": 21,
     "metadata": {},
     "output_type": "execute_result"
    }
   ],
   "source": [
    "z"
   ]
  },
  {
   "cell_type": "code",
   "execution_count": 24,
   "id": "21434f4b-b260-44cd-b3a6-590715c8be51",
   "metadata": {},
   "outputs": [],
   "source": [
    "a=np.array([[2,1],[4,2]])"
   ]
  },
  {
   "cell_type": "code",
   "execution_count": 25,
   "id": "b955e6fc-1164-423c-b506-828e9a71fc4c",
   "metadata": {},
   "outputs": [],
   "source": [
    "b=np.array([5,10])"
   ]
  },
  {
   "cell_type": "code",
   "execution_count": 26,
   "id": "59797f68-78a4-4a4d-bbaf-1163499ccf11",
   "metadata": {},
   "outputs": [
    {
     "data": {
      "text/plain": [
       "0.0"
      ]
     },
     "execution_count": 26,
     "metadata": {},
     "output_type": "execute_result"
    }
   ],
   "source": [
    "linalg.det(a)"
   ]
  },
  {
   "cell_type": "code",
   "execution_count": 27,
   "id": "c5d24abe-658c-4f30-9881-6fc8c4aea829",
   "metadata": {},
   "outputs": [
    {
     "ename": "LinAlgError",
     "evalue": "singular matrix",
     "output_type": "error",
     "traceback": [
      "\u001b[1;31m---------------------------------------------------------------------------\u001b[0m",
      "\u001b[1;31mLinAlgError\u001b[0m                               Traceback (most recent call last)",
      "Cell \u001b[1;32mIn[27], line 1\u001b[0m\n\u001b[1;32m----> 1\u001b[0m \u001b[43mlinalg\u001b[49m\u001b[38;5;241;43m.\u001b[39;49m\u001b[43minv\u001b[49m\u001b[43m(\u001b[49m\u001b[43ma\u001b[49m\u001b[43m)\u001b[49m\n",
      "File \u001b[1;32m~\\AppData\\Roaming\\Python\\Python311\\site-packages\\scipy\\linalg\\_basic.py:972\u001b[0m, in \u001b[0;36minv\u001b[1;34m(a, overwrite_a, check_finite)\u001b[0m\n\u001b[0;32m    970\u001b[0m     inv_a, info \u001b[38;5;241m=\u001b[39m getri(lu, piv, lwork\u001b[38;5;241m=\u001b[39mlwork, overwrite_lu\u001b[38;5;241m=\u001b[39m\u001b[38;5;241m1\u001b[39m)\n\u001b[0;32m    971\u001b[0m \u001b[38;5;28;01mif\u001b[39;00m info \u001b[38;5;241m>\u001b[39m \u001b[38;5;241m0\u001b[39m:\n\u001b[1;32m--> 972\u001b[0m     \u001b[38;5;28;01mraise\u001b[39;00m LinAlgError(\u001b[38;5;124m\"\u001b[39m\u001b[38;5;124msingular matrix\u001b[39m\u001b[38;5;124m\"\u001b[39m)\n\u001b[0;32m    973\u001b[0m \u001b[38;5;28;01mif\u001b[39;00m info \u001b[38;5;241m<\u001b[39m \u001b[38;5;241m0\u001b[39m:\n\u001b[0;32m    974\u001b[0m     \u001b[38;5;28;01mraise\u001b[39;00m \u001b[38;5;167;01mValueError\u001b[39;00m(\u001b[38;5;124m'\u001b[39m\u001b[38;5;124millegal value in \u001b[39m\u001b[38;5;132;01m%d\u001b[39;00m\u001b[38;5;124m-th argument of internal \u001b[39m\u001b[38;5;124m'\u001b[39m\n\u001b[0;32m    975\u001b[0m                      \u001b[38;5;124m'\u001b[39m\u001b[38;5;124mgetrf|getri\u001b[39m\u001b[38;5;124m'\u001b[39m \u001b[38;5;241m%\u001b[39m \u001b[38;5;241m-\u001b[39minfo)\n",
      "\u001b[1;31mLinAlgError\u001b[0m: singular matrix"
     ]
    }
   ],
   "source": [
    "linalg.inv(a)"
   ]
  },
  {
   "cell_type": "code",
   "execution_count": 28,
   "id": "8d0cdd36-4d8f-4539-a791-c0c80083659a",
   "metadata": {},
   "outputs": [
    {
     "ename": "LinAlgError",
     "evalue": "Matrix is singular.",
     "output_type": "error",
     "traceback": [
      "\u001b[1;31m---------------------------------------------------------------------------\u001b[0m",
      "\u001b[1;31mLinAlgError\u001b[0m                               Traceback (most recent call last)",
      "Cell \u001b[1;32mIn[28], line 1\u001b[0m\n\u001b[1;32m----> 1\u001b[0m \u001b[43mlinalg\u001b[49m\u001b[38;5;241;43m.\u001b[39;49m\u001b[43msolve\u001b[49m\u001b[43m(\u001b[49m\u001b[43ma\u001b[49m\u001b[43m,\u001b[49m\u001b[43mb\u001b[49m\u001b[43m)\u001b[49m\n",
      "File \u001b[1;32m~\\AppData\\Roaming\\Python\\Python311\\site-packages\\scipy\\linalg\\_basic.py:220\u001b[0m, in \u001b[0;36msolve\u001b[1;34m(a, b, lower, overwrite_a, overwrite_b, check_finite, assume_a, transposed)\u001b[0m\n\u001b[0;32m    217\u001b[0m gecon, getrf, getrs \u001b[38;5;241m=\u001b[39m get_lapack_funcs((\u001b[38;5;124m'\u001b[39m\u001b[38;5;124mgecon\u001b[39m\u001b[38;5;124m'\u001b[39m, \u001b[38;5;124m'\u001b[39m\u001b[38;5;124mgetrf\u001b[39m\u001b[38;5;124m'\u001b[39m, \u001b[38;5;124m'\u001b[39m\u001b[38;5;124mgetrs\u001b[39m\u001b[38;5;124m'\u001b[39m),\n\u001b[0;32m    218\u001b[0m                                        (a1, b1))\n\u001b[0;32m    219\u001b[0m lu, ipvt, info \u001b[38;5;241m=\u001b[39m getrf(a1, overwrite_a\u001b[38;5;241m=\u001b[39moverwrite_a)\n\u001b[1;32m--> 220\u001b[0m \u001b[43m_solve_check\u001b[49m\u001b[43m(\u001b[49m\u001b[43mn\u001b[49m\u001b[43m,\u001b[49m\u001b[43m \u001b[49m\u001b[43minfo\u001b[49m\u001b[43m)\u001b[49m\n\u001b[0;32m    221\u001b[0m x, info \u001b[38;5;241m=\u001b[39m getrs(lu, ipvt, b1,\n\u001b[0;32m    222\u001b[0m                 trans\u001b[38;5;241m=\u001b[39mtrans, overwrite_b\u001b[38;5;241m=\u001b[39moverwrite_b)\n\u001b[0;32m    223\u001b[0m _solve_check(n, info)\n",
      "File \u001b[1;32m~\\AppData\\Roaming\\Python\\Python311\\site-packages\\scipy\\linalg\\_basic.py:41\u001b[0m, in \u001b[0;36m_solve_check\u001b[1;34m(n, info, lamch, rcond)\u001b[0m\n\u001b[0;32m     38\u001b[0m     \u001b[38;5;28;01mraise\u001b[39;00m \u001b[38;5;167;01mValueError\u001b[39;00m(\u001b[38;5;124m'\u001b[39m\u001b[38;5;124mLAPACK reported an illegal value in \u001b[39m\u001b[38;5;132;01m{}\u001b[39;00m\u001b[38;5;124m-th argument\u001b[39m\u001b[38;5;124m'\u001b[39m\n\u001b[0;32m     39\u001b[0m                      \u001b[38;5;124m'\u001b[39m\u001b[38;5;124m.\u001b[39m\u001b[38;5;124m'\u001b[39m\u001b[38;5;241m.\u001b[39mformat(\u001b[38;5;241m-\u001b[39minfo))\n\u001b[0;32m     40\u001b[0m \u001b[38;5;28;01melif\u001b[39;00m \u001b[38;5;241m0\u001b[39m \u001b[38;5;241m<\u001b[39m info:\n\u001b[1;32m---> 41\u001b[0m     \u001b[38;5;28;01mraise\u001b[39;00m LinAlgError(\u001b[38;5;124m'\u001b[39m\u001b[38;5;124mMatrix is singular.\u001b[39m\u001b[38;5;124m'\u001b[39m)\n\u001b[0;32m     43\u001b[0m \u001b[38;5;28;01mif\u001b[39;00m lamch \u001b[38;5;129;01mis\u001b[39;00m \u001b[38;5;28;01mNone\u001b[39;00m:\n\u001b[0;32m     44\u001b[0m     \u001b[38;5;28;01mreturn\u001b[39;00m\n",
      "\u001b[1;31mLinAlgError\u001b[0m: Matrix is singular."
     ]
    }
   ],
   "source": [
    "linalg.solve(a,b)"
   ]
  }
 ],
 "metadata": {
  "kernelspec": {
   "display_name": "Python 3 (ipykernel)",
   "language": "python",
   "name": "python3"
  },
  "language_info": {
   "codemirror_mode": {
    "name": "ipython",
    "version": 3
   },
   "file_extension": ".py",
   "mimetype": "text/x-python",
   "name": "python",
   "nbconvert_exporter": "python",
   "pygments_lexer": "ipython3",
   "version": "3.11.4"
  }
 },
 "nbformat": 4,
 "nbformat_minor": 5
}
