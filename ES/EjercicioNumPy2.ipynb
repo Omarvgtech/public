{
 "cells": [
  {
   "cell_type": "code",
   "execution_count": 2,
   "id": "7b1eaa2f-2f19-4f2d-a74b-4f69189a3591",
   "metadata": {},
   "outputs": [],
   "source": [
    "import numpy as np"
   ]
  },
  {
   "cell_type": "code",
   "execution_count": 3,
   "id": "257e4ba1-d9a4-462b-b8a3-d6e47d91dbda",
   "metadata": {},
   "outputs": [],
   "source": [
    "scores=np.random.randint(50,101,200)"
   ]
  },
  {
   "cell_type": "code",
   "execution_count": 4,
   "id": "99fce55b-b3d3-4cea-a380-28a10ed56488",
   "metadata": {},
   "outputs": [
    {
     "data": {
      "text/plain": [
       "array([ 67,  98,  79,  80,  68,  77,  86,  59,  65,  57,  95,  96,  92,\n",
       "        53,  95,  91,  65,  78,  79,  63,  73, 100,  59,  63,  78,  58,\n",
       "        92,  94,  89,  78,  85,  74, 100,  57,  55,  62,  62,  93,  79,\n",
       "        86,  75,  72,  89,  94,  58,  98,  63,  60,  57,  68,  54,  62,\n",
       "        56,  68,  65,  59,  56,  73,  56,  85,  55,  50,  75,  93,  89,\n",
       "        51,  88,  52,  80,  93,  72,  58,  55,  99,  70,  87,  75,  91,\n",
       "        70,  82,  65,  96,  79,  80,  58,  77,  62,  57,  61,  70,  58,\n",
       "        89,  71,  97,  95,  94,  64,  85,  53,  81,  61,  80,  66,  51,\n",
       "       100,  60,  95,  58,  53,  90,  55,  59,  84,  67,  67,  78,  56,\n",
       "        73,  72,  84,  89,  93,  98,  64,  77,  58,  96,  92,  61,  95,\n",
       "        54,  68,  81,  88,  85,  56,  99,  69,  89,  87,  58,  88,  98,\n",
       "        79,  80,  87,  60,  94,  79,  68,  94,  59,  96,  96,  71,  89,\n",
       "        68,  58,  95,  52,  57,  65,  84,  52,  90,  53,  80,  81,  83,\n",
       "        71,  61,  86,  77,  74,  55,  52,  87,  87,  77,  89,  58,  76,\n",
       "        61,  67,  68,  66,  55,  72,  98,  69,  52,  85,  91,  68,  90,\n",
       "        77,  65,  76,  64,  52])"
      ]
     },
     "execution_count": 4,
     "metadata": {},
     "output_type": "execute_result"
    }
   ],
   "source": [
    "scores"
   ]
  },
  {
   "cell_type": "code",
   "execution_count": 6,
   "id": "d9eaa6fc-7ba1-4f2c-a746-c3e8a2c4f8f2",
   "metadata": {},
   "outputs": [
    {
     "data": {
      "text/plain": [
       "74.365"
      ]
     },
     "execution_count": 6,
     "metadata": {},
     "output_type": "execute_result"
    }
   ],
   "source": [
    "#Promedio\n",
    "np.mean(scores)"
   ]
  },
  {
   "cell_type": "code",
   "execution_count": 7,
   "id": "4fff0a44-3863-4667-8e0d-e4cfc10c0c29",
   "metadata": {},
   "outputs": [
    {
     "data": {
      "text/plain": [
       "74.0"
      ]
     },
     "execution_count": 7,
     "metadata": {},
     "output_type": "execute_result"
    }
   ],
   "source": [
    "#Mediana\n",
    "np.median(scores)"
   ]
  },
  {
   "cell_type": "code",
   "execution_count": 11,
   "id": "d6affeff-a20c-4f80-8733-2fcb4368c137",
   "metadata": {},
   "outputs": [
    {
     "data": {
      "text/plain": [
       "215.331775"
      ]
     },
     "execution_count": 11,
     "metadata": {},
     "output_type": "execute_result"
    }
   ],
   "source": [
    "#Varianza\n",
    "np.var(scores)"
   ]
  },
  {
   "cell_type": "code",
   "execution_count": 13,
   "id": "2066581d-781a-4bc2-8ef5-4054cc6eb06e",
   "metadata": {},
   "outputs": [
    {
     "data": {
      "text/plain": [
       "14.674187371026717"
      ]
     },
     "execution_count": 13,
     "metadata": {},
     "output_type": "execute_result"
    }
   ],
   "source": [
    "#Desviación Estándar\n",
    "np.std(scores)"
   ]
  },
  {
   "cell_type": "code",
   "execution_count": 17,
   "id": "c5fc0499-df8f-4aeb-bf2e-7df3682f2c9b",
   "metadata": {},
   "outputs": [
    {
     "data": {
      "text/plain": [
       "array([0, 1, 2, 3, 4, 5])"
      ]
     },
     "execution_count": 17,
     "metadata": {},
     "output_type": "execute_result"
    }
   ],
   "source": [
    "arrayA=np.arange(6)\n",
    "arrayA"
   ]
  },
  {
   "cell_type": "code",
   "execution_count": 19,
   "id": "a9d20f6c-d682-4dd3-8d63-397fb228b810",
   "metadata": {},
   "outputs": [
    {
     "data": {
      "text/plain": [
       "array([ 0,  1,  4,  9, 16, 25])"
      ]
     },
     "execution_count": 19,
     "metadata": {},
     "output_type": "execute_result"
    }
   ],
   "source": [
    "np.square(arrayA)"
   ]
  },
  {
   "cell_type": "code",
   "execution_count": 21,
   "id": "bef01371-7b6e-4d33-af67-5a7adc0654a5",
   "metadata": {},
   "outputs": [
    {
     "data": {
      "text/plain": [
       "array([0.        , 1.        , 1.41421356, 1.73205081, 2.        ,\n",
       "       2.23606798])"
      ]
     },
     "execution_count": 21,
     "metadata": {},
     "output_type": "execute_result"
    }
   ],
   "source": [
    "np.sqrt(arrayA)"
   ]
  },
  {
   "cell_type": "code",
   "execution_count": 22,
   "id": "d92a9394-e3b8-4985-881b-3b37eef0967e",
   "metadata": {},
   "outputs": [
    {
     "data": {
      "text/plain": [
       "array([  1.        ,   2.71828183,   7.3890561 ,  20.08553692,\n",
       "        54.59815003, 148.4131591 ])"
      ]
     },
     "execution_count": 22,
     "metadata": {},
     "output_type": "execute_result"
    }
   ],
   "source": [
    "np.exp(arrayA)"
   ]
  },
  {
   "cell_type": "code",
   "execution_count": 25,
   "id": "451938b5-1a83-4615-a121-5a7be83646f8",
   "metadata": {},
   "outputs": [
    {
     "data": {
      "text/plain": [
       "array([ 1,  2,  3,  4,  5,  6,  7,  8,  9, 10])"
      ]
     },
     "execution_count": 25,
     "metadata": {},
     "output_type": "execute_result"
    }
   ],
   "source": [
    "arrayC=np.arange(1,11)\n",
    "arrayC"
   ]
  },
  {
   "cell_type": "code",
   "execution_count": 27,
   "id": "20855ef3-eff2-40b2-b032-699ea487c92a",
   "metadata": {},
   "outputs": [
    {
     "data": {
      "text/plain": [
       "array([0.        , 0.69314718, 1.09861229, 1.38629436, 1.60943791,\n",
       "       1.79175947, 1.94591015, 2.07944154, 2.19722458, 2.30258509])"
      ]
     },
     "execution_count": 27,
     "metadata": {},
     "output_type": "execute_result"
    }
   ],
   "source": [
    "#Logaritmo Natural\n",
    "np.log(arrayC)"
   ]
  },
  {
   "cell_type": "code",
   "execution_count": null,
   "id": "57e1a4ed-7ca4-46e2-8a8c-ac29961e849c",
   "metadata": {},
   "outputs": [],
   "source": []
  },
  {
   "cell_type": "code",
   "execution_count": 28,
   "id": "ced22075-5707-4e4a-97a0-618035051a26",
   "metadata": {},
   "outputs": [
    {
     "data": {
      "text/plain": [
       "3.141592653589793"
      ]
     },
     "execution_count": 28,
     "metadata": {},
     "output_type": "execute_result"
    }
   ],
   "source": [
    "np.pi"
   ]
  },
  {
   "cell_type": "code",
   "execution_count": 29,
   "id": "235746f6-cc72-4363-bd4e-2f7c6b767831",
   "metadata": {},
   "outputs": [],
   "source": [
    "pi=np.pi"
   ]
  },
  {
   "cell_type": "code",
   "execution_count": 30,
   "id": "af008111-2672-45f9-9a01-6dac8d22a274",
   "metadata": {},
   "outputs": [
    {
     "data": {
      "text/plain": [
       "array([0.        , 0.52359878, 0.78539816, 1.04719755, 1.57079633,\n",
       "       2.0943951 , 2.35619449, 2.61799388, 3.14159265])"
      ]
     },
     "execution_count": 30,
     "metadata": {},
     "output_type": "execute_result"
    }
   ],
   "source": [
    "arrayD=np.array([0, pi/6, pi/4, pi/3, pi/2, 2*pi/3, 3*pi/4 , 5*pi/6, pi])\n",
    "arrayD"
   ]
  },
  {
   "cell_type": "code",
   "execution_count": 31,
   "id": "5789d324-0168-4f6e-a6ab-f23cea1073cf",
   "metadata": {},
   "outputs": [
    {
     "data": {
      "text/plain": [
       "array([0.00000000e+00, 5.00000000e-01, 7.07106781e-01, 8.66025404e-01,\n",
       "       1.00000000e+00, 8.66025404e-01, 7.07106781e-01, 5.00000000e-01,\n",
       "       1.22464680e-16])"
      ]
     },
     "execution_count": 31,
     "metadata": {},
     "output_type": "execute_result"
    }
   ],
   "source": [
    "np.sin(arrayD)"
   ]
  },
  {
   "cell_type": "code",
   "execution_count": 34,
   "id": "e74ccf7e-2dd6-4ef2-854f-252b9c1374cd",
   "metadata": {},
   "outputs": [],
   "source": [
    "import matplotlib.pyplot as plt"
   ]
  },
  {
   "cell_type": "code",
   "execution_count": 35,
   "id": "343153f7-bf48-4cdd-abf5-a7c9468422e4",
   "metadata": {},
   "outputs": [
    {
     "data": {
      "text/plain": [
       "[<matplotlib.lines.Line2D at 0x19cced5c350>]"
      ]
     },
     "execution_count": 35,
     "metadata": {},
     "output_type": "execute_result"
    },
    {
     "data": {
      "image/png": "[encoded data removed]",
      "text/plain": [
       "<Figure size 640x480 with 1 Axes>"
      ]
     },
     "metadata": {},
     "output_type": "display_data"
    }
   ],
   "source": [
    "plt.plot(arrayD, np.sin(arrayD))"
   ]
  },
  {
   "cell_type": "code",
   "execution_count": 37,
   "id": "75121e40-5a2b-4766-a525-84ce5baf3771",
   "metadata": {},
   "outputs": [],
   "source": [
    "arrayE= np.linspace(0,4*pi, 100 )"
   ]
  },
  {
   "cell_type": "code",
   "execution_count": 38,
   "id": "56fd44eb-dd90-4a1d-95bd-74483d143df9",
   "metadata": {},
   "outputs": [
    {
     "data": {
      "text/plain": [
       "array([ 0.        ,  0.12693304,  0.25386607,  0.38079911,  0.50773215,\n",
       "        0.63466518,  0.76159822,  0.88853126,  1.01546429,  1.14239733,\n",
       "        1.26933037,  1.3962634 ,  1.52319644,  1.65012947,  1.77706251,\n",
       "        1.90399555,  2.03092858,  2.15786162,  2.28479466,  2.41172769,\n",
       "        2.53866073,  2.66559377,  2.7925268 ,  2.91945984,  3.04639288,\n",
       "        3.17332591,  3.30025895,  3.42719199,  3.55412502,  3.68105806,\n",
       "        3.8079911 ,  3.93492413,  4.06185717,  4.1887902 ,  4.31572324,\n",
       "        4.44265628,  4.56958931,  4.69652235,  4.82345539,  4.95038842,\n",
       "        5.07732146,  5.2042545 ,  5.33118753,  5.45812057,  5.58505361,\n",
       "        5.71198664,  5.83891968,  5.96585272,  6.09278575,  6.21971879,\n",
       "        6.34665183,  6.47358486,  6.6005179 ,  6.72745093,  6.85438397,\n",
       "        6.98131701,  7.10825004,  7.23518308,  7.36211612,  7.48904915,\n",
       "        7.61598219,  7.74291523,  7.86984826,  7.9967813 ,  8.12371434,\n",
       "        8.25064737,  8.37758041,  8.50451345,  8.63144648,  8.75837952,\n",
       "        8.88531256,  9.01224559,  9.13917863,  9.26611167,  9.3930447 ,\n",
       "        9.51997774,  9.64691077,  9.77384381,  9.90077685, 10.02770988,\n",
       "       10.15464292, 10.28157596, 10.40850899, 10.53544203, 10.66237507,\n",
       "       10.7893081 , 10.91624114, 11.04317418, 11.17010721, 11.29704025,\n",
       "       11.42397329, 11.55090632, 11.67783936, 11.8047724 , 11.93170543,\n",
       "       12.05863847, 12.1855715 , 12.31250454, 12.43943758, 12.56637061])"
      ]
     },
     "execution_count": 38,
     "metadata": {},
     "output_type": "execute_result"
    }
   ],
   "source": [
    "arrayE"
   ]
  },
  {
   "cell_type": "code",
   "execution_count": 39,
   "id": "4df9c4f3-569c-4fef-9028-94af7fd83017",
   "metadata": {},
   "outputs": [
    {
     "data": {
      "text/plain": [
       "[<matplotlib.lines.Line2D at 0x19cd0eeadd0>]"
      ]
     },
     "execution_count": 39,
     "metadata": {},
     "output_type": "execute_result"
    },
    {
     "data": {
      "image/png": "[encoded data removed]",
      "text/plain": [
       "<Figure size 640x480 with 1 Axes>"
      ]
     },
     "metadata": {},
     "output_type": "display_data"
    }
   ],
   "source": [
    "plt.plot(arrayE, np.sin(arrayE))"
   ]
  },
  {
   "cell_type": "code",
   "execution_count": 42,
   "id": "5a4fa69d-f33e-4f9e-ae85-4f16c1d63a64",
   "metadata": {},
   "outputs": [],
   "source": [
    "from scipy import linalg"
   ]
  },
  {
   "cell_type": "code",
   "execution_count": 43,
   "id": "2e47a96c-1d52-48a6-9678-6bf2cec8fbd8",
   "metadata": {},
   "outputs": [
    {
     "data": {
      "text/plain": [
       "\u001b[1;31mType:\u001b[0m        module\n",
       "\u001b[1;31mString form:\u001b[0m <module 'scipy.linalg' from 'C:\\\\Users\\\\fusion\\\\AppData\\\\Roaming\\\\Python\\\\Python311\\\\site-packages\\\\scipy\\\\linalg\\\\__init__.py'>\n",
       "\u001b[1;31mFile:\u001b[0m        c:\\users\\fusion\\appdata\\roaming\\python\\python311\\site-packages\\scipy\\linalg\\__init__.py\n",
       "\u001b[1;31mDocstring:\u001b[0m  \n",
       "====================================\n",
       "Linear algebra (:mod:`scipy.linalg`)\n",
       "====================================\n",
       "\n",
       ".. currentmodule:: scipy.linalg\n",
       "\n",
       ".. toctree::\n",
       "   :hidden:\n",
       "\n",
       "   linalg.blas\n",
       "   linalg.cython_blas\n",
       "   linalg.cython_lapack\n",
       "   linalg.interpolative\n",
       "   linalg.lapack\n",
       "\n",
       "Linear algebra functions.\n",
       "\n",
       ".. eventually, we should replace the numpy.linalg HTML link with just `numpy.linalg`\n",
       "\n",
       ".. seealso::\n",
       "\n",
       "   `numpy.linalg <https://www.numpy.org/devdocs/reference/routines.linalg.html>`__\n",
       "   for more linear algebra functions. Note that\n",
       "   although `scipy.linalg` imports most of them, identically named\n",
       "   functions from `scipy.linalg` may offer more or slightly differing\n",
       "   functionality.\n",
       "\n",
       "\n",
       "Basics\n",
       "======\n",
       "\n",
       ".. autosummary::\n",
       "   :toctree: generated/\n",
       "\n",
       "   inv - Find the inverse of a square matrix\n",
       "   solve - Solve a linear system of equations\n",
       "   solve_banded - Solve a banded linear system\n",
       "   solveh_banded - Solve a Hermitian or symmetric banded system\n",
       "   solve_circulant - Solve a circulant system\n",
       "   solve_triangular - Solve a triangular matrix\n",
       "   solve_toeplitz - Solve a toeplitz matrix\n",
       "   matmul_toeplitz - Multiply a Toeplitz matrix with an array.\n",
       "   det - Find the determinant of a square matrix\n",
       "   norm - Matrix and vector norm\n",
       "   lstsq - Solve a linear least-squares problem\n",
       "   pinv - Pseudo-inverse (Moore-Penrose) using lstsq\n",
       "   pinvh - Pseudo-inverse of hermitian matrix\n",
       "   kron - Kronecker product of two arrays\n",
       "   khatri_rao - Khatri-Rao product of two arrays\n",
       "   tril - Construct a lower-triangular matrix from a given matrix\n",
       "   triu - Construct an upper-triangular matrix from a given matrix\n",
       "   orthogonal_procrustes - Solve an orthogonal Procrustes problem\n",
       "   matrix_balance - Balance matrix entries with a similarity transformation\n",
       "   subspace_angles - Compute the subspace angles between two matrices\n",
       "   bandwidth - Return the lower and upper bandwidth of an array\n",
       "   issymmetric - Check if a square 2D array is symmetric\n",
       "   ishermitian - Check if a square 2D array is Hermitian\n",
       "   LinAlgError\n",
       "   LinAlgWarning\n",
       "\n",
       "Eigenvalue Problems\n",
       "===================\n",
       "\n",
       ".. autosummary::\n",
       "   :toctree: generated/\n",
       "\n",
       "   eig - Find the eigenvalues and eigenvectors of a square matrix\n",
       "   eigvals - Find just the eigenvalues of a square matrix\n",
       "   eigh - Find the e-vals and e-vectors of a Hermitian or symmetric matrix\n",
       "   eigvalsh - Find just the eigenvalues of a Hermitian or symmetric matrix\n",
       "   eig_banded - Find the eigenvalues and eigenvectors of a banded matrix\n",
       "   eigvals_banded - Find just the eigenvalues of a banded matrix\n",
       "   eigh_tridiagonal - Find the eigenvalues and eigenvectors of a tridiagonal matrix\n",
       "   eigvalsh_tridiagonal - Find just the eigenvalues of a tridiagonal matrix\n",
       "\n",
       "Decompositions\n",
       "==============\n",
       "\n",
       ".. autosummary::\n",
       "   :toctree: generated/\n",
       "\n",
       "   lu - LU decomposition of a matrix\n",
       "   lu_factor - LU decomposition returning unordered matrix and pivots\n",
       "   lu_solve - Solve Ax=b using back substitution with output of lu_factor\n",
       "   svd - Singular value decomposition of a matrix\n",
       "   svdvals - Singular values of a matrix\n",
       "   diagsvd - Construct matrix of singular values from output of svd\n",
       "   orth - Construct orthonormal basis for the range of A using svd\n",
       "   null_space - Construct orthonormal basis for the null space of A using svd\n",
       "   ldl - LDL.T decomposition of a Hermitian or a symmetric matrix.\n",
       "   cholesky - Cholesky decomposition of a matrix\n",
       "   cholesky_banded - Cholesky decomp. of a sym. or Hermitian banded matrix\n",
       "   cho_factor - Cholesky decomposition for use in solving a linear system\n",
       "   cho_solve - Solve previously factored linear system\n",
       "   cho_solve_banded - Solve previously factored banded linear system\n",
       "   polar - Compute the polar decomposition.\n",
       "   qr - QR decomposition of a matrix\n",
       "   qr_multiply - QR decomposition and multiplication by Q\n",
       "   qr_update - Rank k QR update\n",
       "   qr_delete - QR downdate on row or column deletion\n",
       "   qr_insert - QR update on row or column insertion\n",
       "   rq - RQ decomposition of a matrix\n",
       "   qz - QZ decomposition of a pair of matrices\n",
       "   ordqz - QZ decomposition of a pair of matrices with reordering\n",
       "   schur - Schur decomposition of a matrix\n",
       "   rsf2csf - Real to complex Schur form\n",
       "   hessenberg - Hessenberg form of a matrix\n",
       "   cdf2rdf - Complex diagonal form to real diagonal block form\n",
       "   cossin - Cosine sine decomposition of a unitary or orthogonal matrix\n",
       "\n",
       ".. seealso::\n",
       "\n",
       "   `scipy.linalg.interpolative` -- Interpolative matrix decompositions\n",
       "\n",
       "\n",
       "Matrix Functions\n",
       "================\n",
       "\n",
       ".. autosummary::\n",
       "   :toctree: generated/\n",
       "\n",
       "   expm - Matrix exponential\n",
       "   logm - Matrix logarithm\n",
       "   cosm - Matrix cosine\n",
       "   sinm - Matrix sine\n",
       "   tanm - Matrix tangent\n",
       "   coshm - Matrix hyperbolic cosine\n",
       "   sinhm - Matrix hyperbolic sine\n",
       "   tanhm - Matrix hyperbolic tangent\n",
       "   signm - Matrix sign\n",
       "   sqrtm - Matrix square root\n",
       "   funm - Evaluating an arbitrary matrix function\n",
       "   expm_frechet - Frechet derivative of the matrix exponential\n",
       "   expm_cond - Relative condition number of expm in the Frobenius norm\n",
       "   fractional_matrix_power - Fractional matrix power\n",
       "\n",
       "\n",
       "Matrix Equation Solvers\n",
       "=======================\n",
       "\n",
       ".. autosummary::\n",
       "   :toctree: generated/\n",
       "\n",
       "   solve_sylvester - Solve the Sylvester matrix equation\n",
       "   solve_continuous_are - Solve the continuous-time algebraic Riccati equation\n",
       "   solve_discrete_are - Solve the discrete-time algebraic Riccati equation\n",
       "   solve_continuous_lyapunov - Solve the continuous-time Lyapunov equation\n",
       "   solve_discrete_lyapunov - Solve the discrete-time Lyapunov equation\n",
       "\n",
       "\n",
       "Sketches and Random Projections\n",
       "===============================\n",
       "\n",
       ".. autosummary::\n",
       "   :toctree: generated/\n",
       "\n",
       "   clarkson_woodruff_transform - Applies the Clarkson Woodruff Sketch (a.k.a CountMin Sketch)\n",
       "\n",
       "Special Matrices\n",
       "================\n",
       "\n",
       ".. autosummary::\n",
       "   :toctree: generated/\n",
       "\n",
       "   block_diag - Construct a block diagonal matrix from submatrices\n",
       "   circulant - Circulant matrix\n",
       "   companion - Companion matrix\n",
       "   convolution_matrix - Convolution matrix\n",
       "   dft - Discrete Fourier transform matrix\n",
       "   fiedler - Fiedler matrix\n",
       "   fiedler_companion - Fiedler companion matrix\n",
       "   hadamard - Hadamard matrix of order 2**n\n",
       "   hankel - Hankel matrix\n",
       "   helmert - Helmert matrix\n",
       "   hilbert - Hilbert matrix\n",
       "   invhilbert - Inverse Hilbert matrix\n",
       "   leslie - Leslie matrix\n",
       "   pascal - Pascal matrix\n",
       "   invpascal - Inverse Pascal matrix\n",
       "   toeplitz - Toeplitz matrix\n",
       "   tri - Construct a matrix filled with ones at and below a given diagonal\n",
       "\n",
       "Low-level routines\n",
       "==================\n",
       "\n",
       ".. autosummary::\n",
       "   :toctree: generated/\n",
       "\n",
       "   get_blas_funcs\n",
       "   get_lapack_funcs\n",
       "   find_best_blas_type\n",
       "\n",
       ".. seealso::\n",
       "\n",
       "   `scipy.linalg.blas` -- Low-level BLAS functions\n",
       "\n",
       "   `scipy.linalg.lapack` -- Low-level LAPACK functions\n",
       "\n",
       "   `scipy.linalg.cython_blas` -- Low-level BLAS functions for Cython\n",
       "\n",
       "   `scipy.linalg.cython_lapack` -- Low-level LAPACK functions for Cython"
      ]
     },
     "metadata": {},
     "output_type": "display_data"
    }
   ],
   "source": [
    "linalg?\n"
   ]
  }
 ],
 "metadata": {
  "kernelspec": {
   "display_name": "Python 3 (ipykernel)",
   "language": "python",
   "name": "python3"
  },
  "language_info": {
   "codemirror_mode": {
    "name": "ipython",
    "version": 3
   },
   "file_extension": ".py",
   "mimetype": "text/x-python",
   "name": "python",
   "nbconvert_exporter": "python",
   "pygments_lexer": "ipython3",
   "version": "3.11.4"
  }
 },
 "nbformat": 4,
 "nbformat_minor": 5
}
